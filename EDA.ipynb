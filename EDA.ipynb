{
 "cells": [
  {
   "cell_type": "code",
   "execution_count": 50,
   "id": "af0077bc",
   "metadata": {},
   "outputs": [],
   "source": [
    "from dotenv import load_dotenv\n",
    "import os\n",
    "from pymongo import MongoClient\n",
    "import pandas as pd\n",
    "import functions.utils as utils\n",
    "from sklearn.feature_extraction.text import TfidfVectorizer\n",
    "from nltk.tokenize import word_tokenize\n",
    "import plotly.express as px\n",
    "from scipy import stats\n",
    "import numpy as np"
   ]
  },
  {
   "cell_type": "code",
   "execution_count": 2,
   "id": "cf506328",
   "metadata": {},
   "outputs": [],
   "source": [
    "load_dotenv()\n",
    "MONGODB_URI = os.getenv(\"MONGODB_URI\")"
   ]
  },
  {
   "cell_type": "code",
   "execution_count": 3,
   "id": "0c9616bb",
   "metadata": {},
   "outputs": [],
   "source": [
    "# mongoClient = MongoClient(MONGODB_URI)\n",
    "# db = mongoClient[\"news_data\"]\n",
    "# ieColl = db[\"ireland_news\"]"
   ]
  },
  {
   "cell_type": "markdown",
   "id": "aeaee098",
   "metadata": {},
   "source": [
    "### The Ireland News Dataset"
   ]
  },
  {
   "cell_type": "code",
   "execution_count": 4,
   "id": "0a663911",
   "metadata": {
    "scrolled": true
   },
   "outputs": [
    {
     "data": {
      "text/html": [
       "<div>\n",
       "<style scoped>\n",
       "    .dataframe tbody tr th:only-of-type {\n",
       "        vertical-align: middle;\n",
       "    }\n",
       "\n",
       "    .dataframe tbody tr th {\n",
       "        vertical-align: top;\n",
       "    }\n",
       "\n",
       "    .dataframe thead th {\n",
       "        text-align: right;\n",
       "    }\n",
       "</style>\n",
       "<table border=\"1\" class=\"dataframe\">\n",
       "  <thead>\n",
       "    <tr style=\"text-align: right;\">\n",
       "      <th></th>\n",
       "      <th>_id</th>\n",
       "      <th>id</th>\n",
       "      <th>title</th>\n",
       "      <th>publish_date</th>\n",
       "      <th>source_country</th>\n",
       "      <th>sentiment</th>\n",
       "    </tr>\n",
       "  </thead>\n",
       "  <tbody>\n",
       "    <tr>\n",
       "      <th>0</th>\n",
       "      <td>646fddfd0576b45037ddb2c6</td>\n",
       "      <td>111013564</td>\n",
       "      <td>Kilkenny-based recruitment company wins two in...</td>\n",
       "      <td>2023-04-18 08:59:00</td>\n",
       "      <td>ie</td>\n",
       "      <td>0.544</td>\n",
       "    </tr>\n",
       "    <tr>\n",
       "      <th>1</th>\n",
       "      <td>646fddfd0576b45037ddb2c7</td>\n",
       "      <td>88450232</td>\n",
       "      <td>Ministers Harris and Ryan welcome record numbe...</td>\n",
       "      <td>2023-01-17 21:41:06</td>\n",
       "      <td>ie</td>\n",
       "      <td>0.341</td>\n",
       "    </tr>\n",
       "    <tr>\n",
       "      <th>2</th>\n",
       "      <td>646fddfd0576b45037ddb2c8</td>\n",
       "      <td>75989338</td>\n",
       "      <td>New €4.8m state-of-the-art facility planned fo...</td>\n",
       "      <td>2022-12-05 11:06:50</td>\n",
       "      <td>ie</td>\n",
       "      <td>0.377</td>\n",
       "    </tr>\n",
       "    <tr>\n",
       "      <th>3</th>\n",
       "      <td>646fddfd0576b45037ddb2c9</td>\n",
       "      <td>92473892</td>\n",
       "      <td>‘Not possible’ to make Northern Ireland Protoc...</td>\n",
       "      <td>2023-02-01 20:45:45</td>\n",
       "      <td>ie</td>\n",
       "      <td>-0.146</td>\n",
       "    </tr>\n",
       "    <tr>\n",
       "      <th>4</th>\n",
       "      <td>646fddfd0576b45037ddb2ca</td>\n",
       "      <td>86433356</td>\n",
       "      <td>Shoppers must demand longer lasting goods and ...</td>\n",
       "      <td>2023-01-10 16:14:04</td>\n",
       "      <td>ie</td>\n",
       "      <td>-0.077</td>\n",
       "    </tr>\n",
       "  </tbody>\n",
       "</table>\n",
       "</div>"
      ],
      "text/plain": [
       "                        _id         id  \\\n",
       "0  646fddfd0576b45037ddb2c6  111013564   \n",
       "1  646fddfd0576b45037ddb2c7   88450232   \n",
       "2  646fddfd0576b45037ddb2c8   75989338   \n",
       "3  646fddfd0576b45037ddb2c9   92473892   \n",
       "4  646fddfd0576b45037ddb2ca   86433356   \n",
       "\n",
       "                                               title         publish_date  \\\n",
       "0  Kilkenny-based recruitment company wins two in...  2023-04-18 08:59:00   \n",
       "1  Ministers Harris and Ryan welcome record numbe...  2023-01-17 21:41:06   \n",
       "2  New €4.8m state-of-the-art facility planned fo...  2022-12-05 11:06:50   \n",
       "3  ‘Not possible’ to make Northern Ireland Protoc...  2023-02-01 20:45:45   \n",
       "4  Shoppers must demand longer lasting goods and ...  2023-01-10 16:14:04   \n",
       "\n",
       "  source_country  sentiment  \n",
       "0             ie      0.544  \n",
       "1             ie      0.341  \n",
       "2             ie      0.377  \n",
       "3             ie     -0.146  \n",
       "4             ie     -0.077  "
      ]
     },
     "execution_count": 4,
     "metadata": {},
     "output_type": "execute_result"
    }
   ],
   "source": [
    "# https://towardsdatascience.com/list-comprehensions-vs-for-loops-it-is-not-what-you-think-34071d4d8207\n",
    "# Using array computation is a lot faster than using for loops and appending to a list\n",
    "# irelandNews = list(ieColl.find({}))\n",
    "# print(len(irelandNews))\n",
    "\n",
    "# irelandNewsDF = pd.DataFrame(irelandNews)\n",
    "\n",
    "# REMOVE THIS ONCE YOU ARE DONE WITH THE EDA\n",
    "irelandNewsDF = pd.read_csv('datasets/ie_news.csv')\n",
    "irelandNewsDF.head()"
   ]
  },
  {
   "cell_type": "code",
   "execution_count": 5,
   "id": "4b9c7f6a",
   "metadata": {
    "scrolled": true
   },
   "outputs": [
    {
     "data": {
      "text/html": [
       "<div>\n",
       "<style scoped>\n",
       "    .dataframe tbody tr th:only-of-type {\n",
       "        vertical-align: middle;\n",
       "    }\n",
       "\n",
       "    .dataframe tbody tr th {\n",
       "        vertical-align: top;\n",
       "    }\n",
       "\n",
       "    .dataframe thead th {\n",
       "        text-align: right;\n",
       "    }\n",
       "</style>\n",
       "<table border=\"1\" class=\"dataframe\">\n",
       "  <thead>\n",
       "    <tr style=\"text-align: right;\">\n",
       "      <th></th>\n",
       "      <th>id</th>\n",
       "      <th>sentiment</th>\n",
       "    </tr>\n",
       "  </thead>\n",
       "  <tbody>\n",
       "    <tr>\n",
       "      <th>count</th>\n",
       "      <td>5.050000e+02</td>\n",
       "      <td>505.000000</td>\n",
       "    </tr>\n",
       "    <tr>\n",
       "      <th>mean</th>\n",
       "      <td>9.049021e+07</td>\n",
       "      <td>-0.003907</td>\n",
       "    </tr>\n",
       "    <tr>\n",
       "      <th>std</th>\n",
       "      <td>1.450734e+07</td>\n",
       "      <td>0.288732</td>\n",
       "    </tr>\n",
       "    <tr>\n",
       "      <th>min</th>\n",
       "      <td>6.496858e+07</td>\n",
       "      <td>-0.774000</td>\n",
       "    </tr>\n",
       "    <tr>\n",
       "      <th>25%</th>\n",
       "      <td>7.718277e+07</td>\n",
       "      <td>-0.216000</td>\n",
       "    </tr>\n",
       "    <tr>\n",
       "      <th>50%</th>\n",
       "      <td>9.012608e+07</td>\n",
       "      <td>-0.029000</td>\n",
       "    </tr>\n",
       "    <tr>\n",
       "      <th>75%</th>\n",
       "      <td>1.034486e+08</td>\n",
       "      <td>0.186000</td>\n",
       "    </tr>\n",
       "    <tr>\n",
       "      <th>max</th>\n",
       "      <td>1.124263e+08</td>\n",
       "      <td>0.879000</td>\n",
       "    </tr>\n",
       "  </tbody>\n",
       "</table>\n",
       "</div>"
      ],
      "text/plain": [
       "                 id   sentiment\n",
       "count  5.050000e+02  505.000000\n",
       "mean   9.049021e+07   -0.003907\n",
       "std    1.450734e+07    0.288732\n",
       "min    6.496858e+07   -0.774000\n",
       "25%    7.718277e+07   -0.216000\n",
       "50%    9.012608e+07   -0.029000\n",
       "75%    1.034486e+08    0.186000\n",
       "max    1.124263e+08    0.879000"
      ]
     },
     "execution_count": 5,
     "metadata": {},
     "output_type": "execute_result"
    }
   ],
   "source": [
    "irelandNewsDF.describe()"
   ]
  },
  {
   "cell_type": "code",
   "execution_count": 6,
   "id": "bfd0ada0",
   "metadata": {},
   "outputs": [
    {
     "data": {
      "text/html": [
       "<div>\n",
       "<style scoped>\n",
       "    .dataframe tbody tr th:only-of-type {\n",
       "        vertical-align: middle;\n",
       "    }\n",
       "\n",
       "    .dataframe tbody tr th {\n",
       "        vertical-align: top;\n",
       "    }\n",
       "\n",
       "    .dataframe thead th {\n",
       "        text-align: right;\n",
       "    }\n",
       "</style>\n",
       "<table border=\"1\" class=\"dataframe\">\n",
       "  <thead>\n",
       "    <tr style=\"text-align: right;\">\n",
       "      <th></th>\n",
       "      <th>_id</th>\n",
       "      <th>title</th>\n",
       "      <th>publish_date</th>\n",
       "      <th>source_country</th>\n",
       "    </tr>\n",
       "  </thead>\n",
       "  <tbody>\n",
       "    <tr>\n",
       "      <th>count</th>\n",
       "      <td>505</td>\n",
       "      <td>505</td>\n",
       "      <td>505</td>\n",
       "      <td>505</td>\n",
       "    </tr>\n",
       "    <tr>\n",
       "      <th>unique</th>\n",
       "      <td>505</td>\n",
       "      <td>505</td>\n",
       "      <td>496</td>\n",
       "      <td>1</td>\n",
       "    </tr>\n",
       "    <tr>\n",
       "      <th>top</th>\n",
       "      <td>646fddfd0576b45037ddb2c6</td>\n",
       "      <td>Kilkenny-based recruitment company wins two in...</td>\n",
       "      <td>2022-11-20 03:30:00</td>\n",
       "      <td>ie</td>\n",
       "    </tr>\n",
       "    <tr>\n",
       "      <th>freq</th>\n",
       "      <td>1</td>\n",
       "      <td>1</td>\n",
       "      <td>3</td>\n",
       "      <td>505</td>\n",
       "    </tr>\n",
       "  </tbody>\n",
       "</table>\n",
       "</div>"
      ],
      "text/plain": [
       "                             _id  \\\n",
       "count                        505   \n",
       "unique                       505   \n",
       "top     646fddfd0576b45037ddb2c6   \n",
       "freq                           1   \n",
       "\n",
       "                                                    title  \\\n",
       "count                                                 505   \n",
       "unique                                                505   \n",
       "top     Kilkenny-based recruitment company wins two in...   \n",
       "freq                                                    1   \n",
       "\n",
       "               publish_date source_country  \n",
       "count                   505            505  \n",
       "unique                  496              1  \n",
       "top     2022-11-20 03:30:00             ie  \n",
       "freq                      3            505  "
      ]
     },
     "execution_count": 6,
     "metadata": {},
     "output_type": "execute_result"
    }
   ],
   "source": [
    "irelandNewsDF.describe(include=\"object\")"
   ]
  },
  {
   "cell_type": "code",
   "execution_count": 7,
   "id": "7987100b",
   "metadata": {
    "scrolled": true
   },
   "outputs": [
    {
     "name": "stdout",
     "output_type": "stream",
     "text": [
      "<class 'pandas.core.frame.DataFrame'>\n",
      "RangeIndex: 505 entries, 0 to 504\n",
      "Data columns (total 6 columns):\n",
      " #   Column          Non-Null Count  Dtype  \n",
      "---  ------          --------------  -----  \n",
      " 0   _id             505 non-null    object \n",
      " 1   id              505 non-null    int64  \n",
      " 2   title           505 non-null    object \n",
      " 3   publish_date    505 non-null    object \n",
      " 4   source_country  505 non-null    object \n",
      " 5   sentiment       505 non-null    float64\n",
      "dtypes: float64(1), int64(1), object(4)\n",
      "memory usage: 23.8+ KB\n"
     ]
    }
   ],
   "source": [
    "irelandNewsDF.info()"
   ]
  },
  {
   "cell_type": "code",
   "execution_count": 8,
   "id": "089969a1",
   "metadata": {
    "scrolled": true
   },
   "outputs": [
    {
     "data": {
      "text/html": [
       "<div>\n",
       "<style scoped>\n",
       "    .dataframe tbody tr th:only-of-type {\n",
       "        vertical-align: middle;\n",
       "    }\n",
       "\n",
       "    .dataframe tbody tr th {\n",
       "        vertical-align: top;\n",
       "    }\n",
       "\n",
       "    .dataframe thead th {\n",
       "        text-align: right;\n",
       "    }\n",
       "</style>\n",
       "<table border=\"1\" class=\"dataframe\">\n",
       "  <thead>\n",
       "    <tr style=\"text-align: right;\">\n",
       "      <th></th>\n",
       "      <th>title</th>\n",
       "      <th>publish_date</th>\n",
       "      <th>source_country</th>\n",
       "      <th>sentiment</th>\n",
       "    </tr>\n",
       "  </thead>\n",
       "  <tbody>\n",
       "    <tr>\n",
       "      <th>1</th>\n",
       "      <td>Ministers Harris and Ryan welcome record numbe...</td>\n",
       "      <td>2023-01-17 21:41:06</td>\n",
       "      <td>ie</td>\n",
       "      <td>0.341</td>\n",
       "    </tr>\n",
       "    <tr>\n",
       "      <th>2</th>\n",
       "      <td>New €4.8m state-of-the-art facility planned fo...</td>\n",
       "      <td>2022-12-05 11:06:50</td>\n",
       "      <td>ie</td>\n",
       "      <td>0.377</td>\n",
       "    </tr>\n",
       "    <tr>\n",
       "      <th>3</th>\n",
       "      <td>‘Not possible’ to make Northern Ireland Protoc...</td>\n",
       "      <td>2023-02-01 20:45:45</td>\n",
       "      <td>ie</td>\n",
       "      <td>-0.146</td>\n",
       "    </tr>\n",
       "    <tr>\n",
       "      <th>4</th>\n",
       "      <td>Shoppers must demand longer lasting goods and ...</td>\n",
       "      <td>2023-01-10 16:14:04</td>\n",
       "      <td>ie</td>\n",
       "      <td>-0.077</td>\n",
       "    </tr>\n",
       "    <tr>\n",
       "      <th>5</th>\n",
       "      <td>Opportunity knocks for investors willing to ma...</td>\n",
       "      <td>2022-12-06 07:00:00</td>\n",
       "      <td>ie</td>\n",
       "      <td>-0.137</td>\n",
       "    </tr>\n",
       "  </tbody>\n",
       "</table>\n",
       "</div>"
      ],
      "text/plain": [
       "                                               title        publish_date  \\\n",
       "1  Ministers Harris and Ryan welcome record numbe... 2023-01-17 21:41:06   \n",
       "2  New €4.8m state-of-the-art facility planned fo... 2022-12-05 11:06:50   \n",
       "3  ‘Not possible’ to make Northern Ireland Protoc... 2023-02-01 20:45:45   \n",
       "4  Shoppers must demand longer lasting goods and ... 2023-01-10 16:14:04   \n",
       "5  Opportunity knocks for investors willing to ma... 2022-12-06 07:00:00   \n",
       "\n",
       "  source_country  sentiment  \n",
       "1             ie      0.341  \n",
       "2             ie      0.377  \n",
       "3             ie     -0.146  \n",
       "4             ie     -0.077  \n",
       "5             ie     -0.137  "
      ]
     },
     "execution_count": 8,
     "metadata": {},
     "output_type": "execute_result"
    }
   ],
   "source": [
    "irelandNewsDF.drop([\"_id\", \"id\"], axis=1, inplace=True)\n",
    "irelandNewsDF[\"publish_date\"] = pd.to_datetime(irelandNewsDF[\"publish_date\"])\n",
    "# Remove news that were on april\n",
    "irelandNewsDF = irelandNewsDF[irelandNewsDF[\"publish_date\"].dt.month != 4]\n",
    "irelandNewsDF.head()"
   ]
  },
  {
   "cell_type": "code",
   "execution_count": 9,
   "id": "22ee903b",
   "metadata": {},
   "outputs": [
    {
     "data": {
      "text/plain": [
       "(426, 4)"
      ]
     },
     "execution_count": 9,
     "metadata": {},
     "output_type": "execute_result"
    }
   ],
   "source": [
    "irelandNewsDF.shape"
   ]
  },
  {
   "cell_type": "code",
   "execution_count": 10,
   "id": "0d800232",
   "metadata": {
    "scrolled": true
   },
   "outputs": [
    {
     "name": "stdout",
     "output_type": "stream",
     "text": [
      "<class 'pandas.core.frame.DataFrame'>\n",
      "Int64Index: 426 entries, 1 to 504\n",
      "Data columns (total 4 columns):\n",
      " #   Column          Non-Null Count  Dtype         \n",
      "---  ------          --------------  -----         \n",
      " 0   title           426 non-null    object        \n",
      " 1   publish_date    426 non-null    datetime64[ns]\n",
      " 2   source_country  426 non-null    object        \n",
      " 3   sentiment       426 non-null    float64       \n",
      "dtypes: datetime64[ns](1), float64(1), object(2)\n",
      "memory usage: 16.6+ KB\n"
     ]
    }
   ],
   "source": [
    "irelandNewsDF.info()"
   ]
  },
  {
   "cell_type": "markdown",
   "id": "0bff2f55",
   "metadata": {},
   "source": [
    "Symbols for decimals and hyphenated words were not removed so that it the meaning of the words are not altered."
   ]
  },
  {
   "cell_type": "code",
   "execution_count": 11,
   "id": "54554254",
   "metadata": {},
   "outputs": [],
   "source": [
    "# Replace the &amp;rsquo; and &amp;lsquo; with ' symbols\n",
    "irelandNewsDF['cleaned_text'] = irelandNewsDF['title'].str.replace('&amp;rsquo;', \"'\")\n",
    "irelandNewsDF['cleaned_text'] = irelandNewsDF['title'].str.replace('&amp;lsquo;', \"'\")\n",
    "irelandNewsDF['cleaned_text'] = irelandNewsDF['title'].apply(utils.lower_case)\n",
    "#remove punctuations\n",
    "irelandNewsDF['cleaned_text'] = irelandNewsDF['cleaned_text'].apply(utils.remove_punctuation)"
   ]
  },
  {
   "cell_type": "code",
   "execution_count": 12,
   "id": "4a7feba8",
   "metadata": {},
   "outputs": [],
   "source": [
    "irelandNewsDF['cleaned_text'] = irelandNewsDF['cleaned_text'].apply(utils.remove_stopwords)"
   ]
  },
  {
   "cell_type": "markdown",
   "id": "3a8e2c0e",
   "metadata": {},
   "source": [
    "Lemmatize the text so that inflectional endings are removed."
   ]
  },
  {
   "cell_type": "code",
   "execution_count": 13,
   "id": "7ea36f31",
   "metadata": {},
   "outputs": [],
   "source": [
    "irelandNewsDF['cleaned_text'] = irelandNewsDF['cleaned_text'].apply(utils.lemmatize_text)"
   ]
  },
  {
   "cell_type": "markdown",
   "id": "23a42edd",
   "metadata": {},
   "source": [
    "Feature extraction"
   ]
  },
  {
   "cell_type": "code",
   "execution_count": 14,
   "id": "5683da78",
   "metadata": {},
   "outputs": [],
   "source": [
    "irelandNewsDF['sentiment_label'] = irelandNewsDF['sentiment'].apply(utils.set_sentiment_label)"
   ]
  },
  {
   "cell_type": "code",
   "execution_count": 15,
   "id": "a7c8005a",
   "metadata": {},
   "outputs": [],
   "source": [
    "irelandNewsDF['word_length'] = irelandNewsDF['title'].apply(utils.count_words)\n",
    "irelandNewsDF['char_length'] = irelandNewsDF['title'].str.len()"
   ]
  },
  {
   "cell_type": "code",
   "execution_count": 16,
   "id": "0d70b676",
   "metadata": {},
   "outputs": [],
   "source": [
    "irelandNewsDF[\"month\"] = irelandNewsDF[\"publish_date\"].dt.strftime('%B %Y')"
   ]
  },
  {
   "cell_type": "code",
   "execution_count": 17,
   "id": "602ab36b",
   "metadata": {
    "scrolled": true
   },
   "outputs": [
    {
     "data": {
      "text/html": [
       "<div>\n",
       "<style scoped>\n",
       "    .dataframe tbody tr th:only-of-type {\n",
       "        vertical-align: middle;\n",
       "    }\n",
       "\n",
       "    .dataframe tbody tr th {\n",
       "        vertical-align: top;\n",
       "    }\n",
       "\n",
       "    .dataframe thead th {\n",
       "        text-align: right;\n",
       "    }\n",
       "</style>\n",
       "<table border=\"1\" class=\"dataframe\">\n",
       "  <thead>\n",
       "    <tr style=\"text-align: right;\">\n",
       "      <th></th>\n",
       "      <th>title</th>\n",
       "      <th>publish_date</th>\n",
       "      <th>source_country</th>\n",
       "      <th>sentiment</th>\n",
       "      <th>cleaned_text</th>\n",
       "      <th>sentiment_label</th>\n",
       "      <th>word_length</th>\n",
       "      <th>char_length</th>\n",
       "      <th>month</th>\n",
       "    </tr>\n",
       "  </thead>\n",
       "  <tbody>\n",
       "    <tr>\n",
       "      <th>1</th>\n",
       "      <td>Ministers Harris and Ryan welcome record numbe...</td>\n",
       "      <td>2023-01-17 21:41:06</td>\n",
       "      <td>ie</td>\n",
       "      <td>0.341</td>\n",
       "      <td>minister harris ryan welcome record number enr...</td>\n",
       "      <td>positive</td>\n",
       "      <td>16</td>\n",
       "      <td>113</td>\n",
       "      <td>January 2023</td>\n",
       "    </tr>\n",
       "    <tr>\n",
       "      <th>2</th>\n",
       "      <td>New €4.8m state-of-the-art facility planned fo...</td>\n",
       "      <td>2022-12-05 11:06:50</td>\n",
       "      <td>ie</td>\n",
       "      <td>0.377</td>\n",
       "      <td>new 4.8m state-of-the-art facility planned ucd...</td>\n",
       "      <td>positive</td>\n",
       "      <td>9</td>\n",
       "      <td>62</td>\n",
       "      <td>December 2022</td>\n",
       "    </tr>\n",
       "    <tr>\n",
       "      <th>3</th>\n",
       "      <td>‘Not possible’ to make Northern Ireland Protoc...</td>\n",
       "      <td>2023-02-01 20:45:45</td>\n",
       "      <td>ie</td>\n",
       "      <td>-0.146</td>\n",
       "      <td>possible make northern ireland protocol work e...</td>\n",
       "      <td>negative</td>\n",
       "      <td>12</td>\n",
       "      <td>69</td>\n",
       "      <td>February 2023</td>\n",
       "    </tr>\n",
       "    <tr>\n",
       "      <th>4</th>\n",
       "      <td>Shoppers must demand longer lasting goods and ...</td>\n",
       "      <td>2023-01-10 16:14:04</td>\n",
       "      <td>ie</td>\n",
       "      <td>-0.077</td>\n",
       "      <td>shopper must demand longer lasting good le pac...</td>\n",
       "      <td>negative</td>\n",
       "      <td>15</td>\n",
       "      <td>95</td>\n",
       "      <td>January 2023</td>\n",
       "    </tr>\n",
       "    <tr>\n",
       "      <th>5</th>\n",
       "      <td>Opportunity knocks for investors willing to ma...</td>\n",
       "      <td>2022-12-06 07:00:00</td>\n",
       "      <td>ie</td>\n",
       "      <td>-0.137</td>\n",
       "      <td>opportunity knock investor willing make long-t...</td>\n",
       "      <td>negative</td>\n",
       "      <td>13</td>\n",
       "      <td>90</td>\n",
       "      <td>December 2022</td>\n",
       "    </tr>\n",
       "  </tbody>\n",
       "</table>\n",
       "</div>"
      ],
      "text/plain": [
       "                                               title        publish_date  \\\n",
       "1  Ministers Harris and Ryan welcome record numbe... 2023-01-17 21:41:06   \n",
       "2  New €4.8m state-of-the-art facility planned fo... 2022-12-05 11:06:50   \n",
       "3  ‘Not possible’ to make Northern Ireland Protoc... 2023-02-01 20:45:45   \n",
       "4  Shoppers must demand longer lasting goods and ... 2023-01-10 16:14:04   \n",
       "5  Opportunity knocks for investors willing to ma... 2022-12-06 07:00:00   \n",
       "\n",
       "  source_country  sentiment  \\\n",
       "1             ie      0.341   \n",
       "2             ie      0.377   \n",
       "3             ie     -0.146   \n",
       "4             ie     -0.077   \n",
       "5             ie     -0.137   \n",
       "\n",
       "                                        cleaned_text sentiment_label  \\\n",
       "1  minister harris ryan welcome record number enr...        positive   \n",
       "2  new 4.8m state-of-the-art facility planned ucd...        positive   \n",
       "3  possible make northern ireland protocol work e...        negative   \n",
       "4  shopper must demand longer lasting good le pac...        negative   \n",
       "5  opportunity knock investor willing make long-t...        negative   \n",
       "\n",
       "   word_length  char_length          month  \n",
       "1           16          113   January 2023  \n",
       "2            9           62  December 2022  \n",
       "3           12           69  February 2023  \n",
       "4           15           95   January 2023  \n",
       "5           13           90  December 2022  "
      ]
     },
     "execution_count": 17,
     "metadata": {},
     "output_type": "execute_result"
    }
   ],
   "source": [
    "irelandNewsDF.head()"
   ]
  },
  {
   "cell_type": "code",
   "execution_count": 49,
   "id": "fcd37baa",
   "metadata": {},
   "outputs": [
    {
     "data": {
      "application/vnd.plotly.v1+json": {
       "config": {
        "plotlyServerURL": "https://plot.ly"
       },
       "data": [
        {
         "alignmentgroup": "True",
         "hovertemplate": "month=%{x}<br>sentiment=%{y}<extra></extra>",
         "legendgroup": "January 2023",
         "marker": {
          "color": "#A7B8F8"
         },
         "name": "January 2023",
         "notched": false,
         "offsetgroup": "January 2023",
         "orientation": "v",
         "showlegend": true,
         "type": "box",
         "x": [
          "January 2023",
          "January 2023",
          "January 2023",
          "January 2023",
          "January 2023",
          "January 2023",
          "January 2023",
          "January 2023",
          "January 2023",
          "January 2023",
          "January 2023",
          "January 2023",
          "January 2023",
          "January 2023",
          "January 2023",
          "January 2023",
          "January 2023",
          "January 2023",
          "January 2023",
          "January 2023",
          "January 2023",
          "January 2023",
          "January 2023",
          "January 2023",
          "January 2023",
          "January 2023",
          "January 2023",
          "January 2023",
          "January 2023",
          "January 2023",
          "January 2023",
          "January 2023",
          "January 2023",
          "January 2023",
          "January 2023",
          "January 2023",
          "January 2023",
          "January 2023",
          "January 2023",
          "January 2023",
          "January 2023",
          "January 2023",
          "January 2023",
          "January 2023",
          "January 2023",
          "January 2023",
          "January 2023",
          "January 2023",
          "January 2023",
          "January 2023",
          "January 2023",
          "January 2023",
          "January 2023",
          "January 2023",
          "January 2023",
          "January 2023",
          "January 2023",
          "January 2023",
          "January 2023",
          "January 2023",
          "January 2023",
          "January 2023",
          "January 2023",
          "January 2023",
          "January 2023",
          "January 2023",
          "January 2023",
          "January 2023",
          "January 2023",
          "January 2023",
          "January 2023",
          "January 2023",
          "January 2023",
          "January 2023",
          "January 2023",
          "January 2023"
         ],
         "x0": " ",
         "xaxis": "x",
         "y": [
          0.341,
          -0.077,
          0.365,
          0.358,
          -0.127,
          0.271,
          -0.283,
          -0.102,
          -0.019,
          0.289,
          0.611,
          -0.09,
          0.067,
          -0.252,
          0.032,
          -0.21,
          -0.302,
          0.38,
          -0.348,
          -0.24,
          -0.118,
          0.111,
          -0.442,
          -0.248,
          0.331,
          -0.346,
          0.215,
          0.13,
          0.054,
          -0.289,
          -0.114,
          -0.533,
          -0.129,
          -0.036,
          0.046,
          -0.396,
          -0.258,
          0.67,
          0.165,
          0.011,
          0.671,
          -0.255,
          0.044,
          0.201,
          -0.393,
          0.648,
          -0.44,
          -0.05,
          -0.017,
          0.216,
          0.176,
          0.621,
          -0.245,
          0.07,
          0.053,
          0.172,
          -0.131,
          0.085,
          0.09,
          -0.152,
          -0.279,
          0.144,
          0.362,
          -0.403,
          -0.265,
          0.398,
          -0.369,
          -0.455,
          0.37,
          -0.143,
          -0.328,
          0.041,
          -0.201,
          0.24,
          0.237,
          -0.206
         ],
         "y0": " ",
         "yaxis": "y"
        },
        {
         "alignmentgroup": "True",
         "hovertemplate": "month=%{x}<br>sentiment=%{y}<extra></extra>",
         "legendgroup": "December 2022",
         "marker": {
          "color": "#6073B1"
         },
         "name": "December 2022",
         "notched": false,
         "offsetgroup": "December 2022",
         "orientation": "v",
         "showlegend": true,
         "type": "box",
         "x": [
          "December 2022",
          "December 2022",
          "December 2022",
          "December 2022",
          "December 2022",
          "December 2022",
          "December 2022",
          "December 2022",
          "December 2022",
          "December 2022",
          "December 2022",
          "December 2022",
          "December 2022",
          "December 2022",
          "December 2022",
          "December 2022",
          "December 2022",
          "December 2022",
          "December 2022",
          "December 2022",
          "December 2022",
          "December 2022",
          "December 2022",
          "December 2022",
          "December 2022",
          "December 2022",
          "December 2022",
          "December 2022",
          "December 2022",
          "December 2022",
          "December 2022",
          "December 2022",
          "December 2022",
          "December 2022",
          "December 2022",
          "December 2022",
          "December 2022",
          "December 2022",
          "December 2022",
          "December 2022",
          "December 2022",
          "December 2022",
          "December 2022",
          "December 2022",
          "December 2022",
          "December 2022",
          "December 2022",
          "December 2022",
          "December 2022",
          "December 2022",
          "December 2022",
          "December 2022",
          "December 2022",
          "December 2022",
          "December 2022",
          "December 2022",
          "December 2022",
          "December 2022",
          "December 2022",
          "December 2022",
          "December 2022",
          "December 2022",
          "December 2022",
          "December 2022",
          "December 2022",
          "December 2022",
          "December 2022",
          "December 2022",
          "December 2022",
          "December 2022",
          "December 2022",
          "December 2022",
          "December 2022",
          "December 2022",
          "December 2022",
          "December 2022",
          "December 2022",
          "December 2022",
          "December 2022",
          "December 2022",
          "December 2022",
          "December 2022",
          "December 2022",
          "December 2022",
          "December 2022",
          "December 2022",
          "December 2022",
          "December 2022",
          "December 2022",
          "December 2022",
          "December 2022",
          "December 2022",
          "December 2022",
          "December 2022",
          "December 2022",
          "December 2022",
          "December 2022",
          "December 2022",
          "December 2022",
          "December 2022",
          "December 2022",
          "December 2022",
          "December 2022",
          "December 2022",
          "December 2022",
          "December 2022",
          "December 2022",
          "December 2022",
          "December 2022",
          "December 2022",
          "December 2022",
          "December 2022",
          "December 2022",
          "December 2022",
          "December 2022",
          "December 2022",
          "December 2022",
          "December 2022"
         ],
         "x0": " ",
         "xaxis": "x",
         "y": [
          0.377,
          -0.137,
          0.381,
          0.128,
          0.014,
          0.246,
          -0.345,
          -0.012,
          -0.221,
          -0.215,
          -0.316,
          0.381,
          -0.301,
          0.356,
          -0.221,
          0.478,
          0.341,
          0.244,
          -0.045,
          0.14,
          -0.048,
          -0.06,
          0.103,
          0.341,
          -0.102,
          -0.301,
          -0.335,
          0.001,
          0.207,
          -0.307,
          0.137,
          0.055,
          -0.189,
          0.226,
          -0.058,
          -0.336,
          -0.621,
          0.207,
          -0.108,
          -0.122,
          0.158,
          -0.156,
          -0.215,
          -0.129,
          0.2,
          -0.104,
          -0.201,
          0.147,
          -0.12,
          0.038,
          -0.149,
          -0.244,
          0.168,
          -0.123,
          -0.301,
          0.062,
          0.64,
          -0.314,
          -0.197,
          -0.245,
          -0.3,
          0.042,
          -0.278,
          -0.088,
          -0.084,
          0.037,
          0.122,
          0.37,
          0.387,
          -0.157,
          -0.293,
          0.25,
          -0.165,
          -0.062,
          0.199,
          0.095,
          -0.117,
          -0.292,
          -0.186,
          -0.013,
          -0.096,
          -0.214,
          0.211,
          0.551,
          0.23,
          0.025,
          0.046,
          -0.311,
          -0.227,
          0.272,
          -0.084,
          0.52,
          -0.314,
          -0.204,
          -0.379,
          -0.169,
          0.032,
          -0.382,
          0.225,
          0.095,
          0.34,
          -0.287,
          -0.056,
          -0.292,
          0.228,
          0.094,
          -0.371,
          -0.142,
          0.014,
          -0.118,
          0.103,
          -0.065,
          0.074,
          0.018,
          -0.347,
          -0.231,
          0.166,
          0.448
         ],
         "y0": " ",
         "yaxis": "y"
        },
        {
         "alignmentgroup": "True",
         "hovertemplate": "month=%{x}<br>sentiment=%{y}<extra></extra>",
         "legendgroup": "February 2023",
         "marker": {
          "color": "#052955"
         },
         "name": "February 2023",
         "notched": false,
         "offsetgroup": "February 2023",
         "orientation": "v",
         "showlegend": true,
         "type": "box",
         "x": [
          "February 2023",
          "February 2023",
          "February 2023",
          "February 2023",
          "February 2023",
          "February 2023",
          "February 2023",
          "February 2023",
          "February 2023",
          "February 2023",
          "February 2023",
          "February 2023",
          "February 2023",
          "February 2023",
          "February 2023",
          "February 2023",
          "February 2023",
          "February 2023",
          "February 2023",
          "February 2023",
          "February 2023",
          "February 2023",
          "February 2023",
          "February 2023",
          "February 2023",
          "February 2023",
          "February 2023",
          "February 2023",
          "February 2023",
          "February 2023",
          "February 2023",
          "February 2023",
          "February 2023",
          "February 2023",
          "February 2023",
          "February 2023",
          "February 2023",
          "February 2023",
          "February 2023",
          "February 2023",
          "February 2023",
          "February 2023",
          "February 2023",
          "February 2023",
          "February 2023",
          "February 2023",
          "February 2023",
          "February 2023"
         ],
         "x0": " ",
         "xaxis": "x",
         "y": [
          -0.146,
          -0.364,
          0.189,
          -0.134,
          -0.065,
          0.428,
          -0.236,
          0.302,
          0.175,
          -0.399,
          -0.195,
          -0.267,
          0.044,
          0.213,
          -0.22,
          -0.09,
          -0.14,
          0.177,
          0.231,
          -0.051,
          0.162,
          -0.213,
          -0.327,
          -0.367,
          0.293,
          0.16,
          0.447,
          -0.372,
          -0.282,
          -0.013,
          0.001,
          0.159,
          -0.413,
          0.189,
          0.473,
          0.025,
          -0.063,
          0.3,
          0.424,
          -0.421,
          -0.106,
          0.574,
          0.348,
          -0.121,
          -0.093,
          0.044,
          0.288,
          -0.313
         ],
         "y0": " ",
         "yaxis": "y"
        },
        {
         "alignmentgroup": "True",
         "hovertemplate": "month=%{x}<br>sentiment=%{y}<extra></extra>",
         "legendgroup": "March 2023",
         "marker": {
          "color": "#2E2B21"
         },
         "name": "March 2023",
         "notched": false,
         "offsetgroup": "March 2023",
         "orientation": "v",
         "showlegend": true,
         "type": "box",
         "x": [
          "March 2023",
          "March 2023",
          "March 2023",
          "March 2023",
          "March 2023",
          "March 2023",
          "March 2023",
          "March 2023",
          "March 2023",
          "March 2023",
          "March 2023",
          "March 2023",
          "March 2023",
          "March 2023",
          "March 2023",
          "March 2023",
          "March 2023",
          "March 2023",
          "March 2023",
          "March 2023",
          "March 2023",
          "March 2023",
          "March 2023",
          "March 2023",
          "March 2023",
          "March 2023",
          "March 2023",
          "March 2023",
          "March 2023",
          "March 2023",
          "March 2023",
          "March 2023",
          "March 2023",
          "March 2023",
          "March 2023",
          "March 2023",
          "March 2023",
          "March 2023",
          "March 2023",
          "March 2023",
          "March 2023",
          "March 2023",
          "March 2023",
          "March 2023",
          "March 2023",
          "March 2023",
          "March 2023",
          "March 2023",
          "March 2023",
          "March 2023",
          "March 2023",
          "March 2023",
          "March 2023",
          "March 2023",
          "March 2023",
          "March 2023",
          "March 2023",
          "March 2023",
          "March 2023",
          "March 2023",
          "March 2023",
          "March 2023",
          "March 2023",
          "March 2023",
          "March 2023",
          "March 2023",
          "March 2023",
          "March 2023",
          "March 2023",
          "March 2023",
          "March 2023",
          "March 2023",
          "March 2023",
          "March 2023",
          "March 2023",
          "March 2023",
          "March 2023",
          "March 2023",
          "March 2023",
          "March 2023",
          "March 2023",
          "March 2023",
          "March 2023",
          "March 2023",
          "March 2023",
          "March 2023",
          "March 2023",
          "March 2023",
          "March 2023",
          "March 2023",
          "March 2023",
          "March 2023",
          "March 2023",
          "March 2023",
          "March 2023",
          "March 2023",
          "March 2023",
          "March 2023",
          "March 2023",
          "March 2023"
         ],
         "x0": " ",
         "xaxis": "x",
         "y": [
          -0.216,
          -0.213,
          -0.32,
          0.031,
          -0.506,
          0.355,
          -0.044,
          0.457,
          -0.033,
          -0.036,
          0.454,
          -0.109,
          0.598,
          0.493,
          -0.469,
          -0.024,
          0.385,
          -0.365,
          -0.326,
          -0.108,
          0.049,
          0.036,
          0.008,
          0.081,
          0.212,
          -0.477,
          0.416,
          0.059,
          -0.454,
          -0.273,
          0.162,
          0.005,
          -0.057,
          -0.029,
          -0.177,
          0.35,
          -0.064,
          -0.082,
          -0.093,
          -0.204,
          0.119,
          0.065,
          0,
          0.113,
          -0.444,
          0.128,
          -0.336,
          0.112,
          -0.019,
          -0.085,
          0.441,
          0.879,
          0.172,
          0.763,
          0.044,
          0.14,
          -0.233,
          0.611,
          -0.488,
          0.211,
          -0.137,
          -0.106,
          -0.259,
          0.643,
          0.369,
          -0.774,
          0.628,
          0.113,
          -0.118,
          -0.239,
          0.172,
          0.233,
          -0.003,
          -0.386,
          -0.097,
          0.247,
          -0.37,
          -0.136,
          0.482,
          0.249,
          -0.106,
          0.469,
          -0.196,
          -0.376,
          0.048,
          -0.076,
          0.186,
          0.043,
          -0.358,
          -0.428,
          -0.5,
          -0.088,
          -0.094,
          -0.159,
          -0.573,
          0.149,
          -0.363,
          -0.413,
          -0.031,
          0.574
         ],
         "y0": " ",
         "yaxis": "y"
        },
        {
         "alignmentgroup": "True",
         "hovertemplate": "month=%{x}<br>sentiment=%{y}<extra></extra>",
         "legendgroup": "November 2022",
         "marker": {
          "color": "#AE9C45"
         },
         "name": "November 2022",
         "notched": false,
         "offsetgroup": "November 2022",
         "orientation": "v",
         "showlegend": true,
         "type": "box",
         "x": [
          "November 2022",
          "November 2022",
          "November 2022",
          "November 2022",
          "November 2022",
          "November 2022",
          "November 2022",
          "November 2022",
          "November 2022",
          "November 2022",
          "November 2022",
          "November 2022",
          "November 2022",
          "November 2022",
          "November 2022",
          "November 2022",
          "November 2022",
          "November 2022",
          "November 2022",
          "November 2022",
          "November 2022",
          "November 2022",
          "November 2022",
          "November 2022",
          "November 2022",
          "November 2022",
          "November 2022",
          "November 2022",
          "November 2022",
          "November 2022",
          "November 2022",
          "November 2022",
          "November 2022",
          "November 2022",
          "November 2022",
          "November 2022",
          "November 2022",
          "November 2022",
          "November 2022",
          "November 2022",
          "November 2022",
          "November 2022",
          "November 2022",
          "November 2022",
          "November 2022",
          "November 2022",
          "November 2022",
          "November 2022",
          "November 2022",
          "November 2022",
          "November 2022",
          "November 2022",
          "November 2022",
          "November 2022",
          "November 2022",
          "November 2022",
          "November 2022",
          "November 2022",
          "November 2022",
          "November 2022",
          "November 2022",
          "November 2022",
          "November 2022",
          "November 2022",
          "November 2022",
          "November 2022",
          "November 2022",
          "November 2022",
          "November 2022",
          "November 2022",
          "November 2022",
          "November 2022",
          "November 2022",
          "November 2022",
          "November 2022",
          "November 2022",
          "November 2022",
          "November 2022",
          "November 2022",
          "November 2022",
          "November 2022",
          "November 2022",
          "November 2022",
          "November 2022"
         ],
         "x0": " ",
         "xaxis": "x",
         "y": [
          -0.085,
          0.055,
          -0.043,
          0.296,
          0.188,
          -0.366,
          -0.184,
          -0.472,
          -0.139,
          0.249,
          0.301,
          -0.386,
          0.057,
          0.168,
          0.307,
          0.734,
          -0.09,
          -0.542,
          0.004,
          0.448,
          -0.533,
          -0.14,
          -0.113,
          0.114,
          -0.079,
          -0.326,
          -0.288,
          0.226,
          0.201,
          -0.188,
          0.337,
          -0.214,
          0.213,
          -0.396,
          0.497,
          -0.673,
          0.401,
          -0.168,
          -0.487,
          -0.131,
          -0.055,
          0.293,
          0.504,
          -0.597,
          -0.387,
          0.545,
          -0.196,
          -0.469,
          0.273,
          -0.27,
          0.034,
          -0.14,
          0.196,
          -0.153,
          -0.371,
          0.093,
          0.597,
          -0.341,
          -0.033,
          0.055,
          0.742,
          0.046,
          -0.014,
          0.007,
          0.513,
          -0.219,
          0.259,
          0.057,
          -0.299,
          -0.34,
          0.159,
          -0.323,
          0.021,
          0.227,
          -0.168,
          0.106,
          0.147,
          -0.274,
          0.166,
          0.552,
          0.017,
          -0.368,
          0.092,
          0.094
         ],
         "y0": " ",
         "yaxis": "y"
        }
       ],
       "layout": {
        "boxmode": "overlay",
        "legend": {
         "title": {
          "text": "month"
         },
         "tracegroupgap": 0
        },
        "template": {
         "data": {
          "bar": [
           {
            "error_x": {
             "color": "#2a3f5f"
            },
            "error_y": {
             "color": "#2a3f5f"
            },
            "marker": {
             "line": {
              "color": "#E5ECF6",
              "width": 0.5
             },
             "pattern": {
              "fillmode": "overlay",
              "size": 10,
              "solidity": 0.2
             }
            },
            "type": "bar"
           }
          ],
          "barpolar": [
           {
            "marker": {
             "line": {
              "color": "#E5ECF6",
              "width": 0.5
             },
             "pattern": {
              "fillmode": "overlay",
              "size": 10,
              "solidity": 0.2
             }
            },
            "type": "barpolar"
           }
          ],
          "carpet": [
           {
            "aaxis": {
             "endlinecolor": "#2a3f5f",
             "gridcolor": "white",
             "linecolor": "white",
             "minorgridcolor": "white",
             "startlinecolor": "#2a3f5f"
            },
            "baxis": {
             "endlinecolor": "#2a3f5f",
             "gridcolor": "white",
             "linecolor": "white",
             "minorgridcolor": "white",
             "startlinecolor": "#2a3f5f"
            },
            "type": "carpet"
           }
          ],
          "choropleth": [
           {
            "colorbar": {
             "outlinewidth": 0,
             "ticks": ""
            },
            "type": "choropleth"
           }
          ],
          "contour": [
           {
            "colorbar": {
             "outlinewidth": 0,
             "ticks": ""
            },
            "colorscale": [
             [
              0,
              "#0d0887"
             ],
             [
              0.1111111111111111,
              "#46039f"
             ],
             [
              0.2222222222222222,
              "#7201a8"
             ],
             [
              0.3333333333333333,
              "#9c179e"
             ],
             [
              0.4444444444444444,
              "#bd3786"
             ],
             [
              0.5555555555555556,
              "#d8576b"
             ],
             [
              0.6666666666666666,
              "#ed7953"
             ],
             [
              0.7777777777777778,
              "#fb9f3a"
             ],
             [
              0.8888888888888888,
              "#fdca26"
             ],
             [
              1,
              "#f0f921"
             ]
            ],
            "type": "contour"
           }
          ],
          "contourcarpet": [
           {
            "colorbar": {
             "outlinewidth": 0,
             "ticks": ""
            },
            "type": "contourcarpet"
           }
          ],
          "heatmap": [
           {
            "colorbar": {
             "outlinewidth": 0,
             "ticks": ""
            },
            "colorscale": [
             [
              0,
              "#0d0887"
             ],
             [
              0.1111111111111111,
              "#46039f"
             ],
             [
              0.2222222222222222,
              "#7201a8"
             ],
             [
              0.3333333333333333,
              "#9c179e"
             ],
             [
              0.4444444444444444,
              "#bd3786"
             ],
             [
              0.5555555555555556,
              "#d8576b"
             ],
             [
              0.6666666666666666,
              "#ed7953"
             ],
             [
              0.7777777777777778,
              "#fb9f3a"
             ],
             [
              0.8888888888888888,
              "#fdca26"
             ],
             [
              1,
              "#f0f921"
             ]
            ],
            "type": "heatmap"
           }
          ],
          "heatmapgl": [
           {
            "colorbar": {
             "outlinewidth": 0,
             "ticks": ""
            },
            "colorscale": [
             [
              0,
              "#0d0887"
             ],
             [
              0.1111111111111111,
              "#46039f"
             ],
             [
              0.2222222222222222,
              "#7201a8"
             ],
             [
              0.3333333333333333,
              "#9c179e"
             ],
             [
              0.4444444444444444,
              "#bd3786"
             ],
             [
              0.5555555555555556,
              "#d8576b"
             ],
             [
              0.6666666666666666,
              "#ed7953"
             ],
             [
              0.7777777777777778,
              "#fb9f3a"
             ],
             [
              0.8888888888888888,
              "#fdca26"
             ],
             [
              1,
              "#f0f921"
             ]
            ],
            "type": "heatmapgl"
           }
          ],
          "histogram": [
           {
            "marker": {
             "pattern": {
              "fillmode": "overlay",
              "size": 10,
              "solidity": 0.2
             }
            },
            "type": "histogram"
           }
          ],
          "histogram2d": [
           {
            "colorbar": {
             "outlinewidth": 0,
             "ticks": ""
            },
            "colorscale": [
             [
              0,
              "#0d0887"
             ],
             [
              0.1111111111111111,
              "#46039f"
             ],
             [
              0.2222222222222222,
              "#7201a8"
             ],
             [
              0.3333333333333333,
              "#9c179e"
             ],
             [
              0.4444444444444444,
              "#bd3786"
             ],
             [
              0.5555555555555556,
              "#d8576b"
             ],
             [
              0.6666666666666666,
              "#ed7953"
             ],
             [
              0.7777777777777778,
              "#fb9f3a"
             ],
             [
              0.8888888888888888,
              "#fdca26"
             ],
             [
              1,
              "#f0f921"
             ]
            ],
            "type": "histogram2d"
           }
          ],
          "histogram2dcontour": [
           {
            "colorbar": {
             "outlinewidth": 0,
             "ticks": ""
            },
            "colorscale": [
             [
              0,
              "#0d0887"
             ],
             [
              0.1111111111111111,
              "#46039f"
             ],
             [
              0.2222222222222222,
              "#7201a8"
             ],
             [
              0.3333333333333333,
              "#9c179e"
             ],
             [
              0.4444444444444444,
              "#bd3786"
             ],
             [
              0.5555555555555556,
              "#d8576b"
             ],
             [
              0.6666666666666666,
              "#ed7953"
             ],
             [
              0.7777777777777778,
              "#fb9f3a"
             ],
             [
              0.8888888888888888,
              "#fdca26"
             ],
             [
              1,
              "#f0f921"
             ]
            ],
            "type": "histogram2dcontour"
           }
          ],
          "mesh3d": [
           {
            "colorbar": {
             "outlinewidth": 0,
             "ticks": ""
            },
            "type": "mesh3d"
           }
          ],
          "parcoords": [
           {
            "line": {
             "colorbar": {
              "outlinewidth": 0,
              "ticks": ""
             }
            },
            "type": "parcoords"
           }
          ],
          "pie": [
           {
            "automargin": true,
            "type": "pie"
           }
          ],
          "scatter": [
           {
            "fillpattern": {
             "fillmode": "overlay",
             "size": 10,
             "solidity": 0.2
            },
            "type": "scatter"
           }
          ],
          "scatter3d": [
           {
            "line": {
             "colorbar": {
              "outlinewidth": 0,
              "ticks": ""
             }
            },
            "marker": {
             "colorbar": {
              "outlinewidth": 0,
              "ticks": ""
             }
            },
            "type": "scatter3d"
           }
          ],
          "scattercarpet": [
           {
            "marker": {
             "colorbar": {
              "outlinewidth": 0,
              "ticks": ""
             }
            },
            "type": "scattercarpet"
           }
          ],
          "scattergeo": [
           {
            "marker": {
             "colorbar": {
              "outlinewidth": 0,
              "ticks": ""
             }
            },
            "type": "scattergeo"
           }
          ],
          "scattergl": [
           {
            "marker": {
             "colorbar": {
              "outlinewidth": 0,
              "ticks": ""
             }
            },
            "type": "scattergl"
           }
          ],
          "scattermapbox": [
           {
            "marker": {
             "colorbar": {
              "outlinewidth": 0,
              "ticks": ""
             }
            },
            "type": "scattermapbox"
           }
          ],
          "scatterpolar": [
           {
            "marker": {
             "colorbar": {
              "outlinewidth": 0,
              "ticks": ""
             }
            },
            "type": "scatterpolar"
           }
          ],
          "scatterpolargl": [
           {
            "marker": {
             "colorbar": {
              "outlinewidth": 0,
              "ticks": ""
             }
            },
            "type": "scatterpolargl"
           }
          ],
          "scatterternary": [
           {
            "marker": {
             "colorbar": {
              "outlinewidth": 0,
              "ticks": ""
             }
            },
            "type": "scatterternary"
           }
          ],
          "surface": [
           {
            "colorbar": {
             "outlinewidth": 0,
             "ticks": ""
            },
            "colorscale": [
             [
              0,
              "#0d0887"
             ],
             [
              0.1111111111111111,
              "#46039f"
             ],
             [
              0.2222222222222222,
              "#7201a8"
             ],
             [
              0.3333333333333333,
              "#9c179e"
             ],
             [
              0.4444444444444444,
              "#bd3786"
             ],
             [
              0.5555555555555556,
              "#d8576b"
             ],
             [
              0.6666666666666666,
              "#ed7953"
             ],
             [
              0.7777777777777778,
              "#fb9f3a"
             ],
             [
              0.8888888888888888,
              "#fdca26"
             ],
             [
              1,
              "#f0f921"
             ]
            ],
            "type": "surface"
           }
          ],
          "table": [
           {
            "cells": {
             "fill": {
              "color": "#EBF0F8"
             },
             "line": {
              "color": "white"
             }
            },
            "header": {
             "fill": {
              "color": "#C8D4E3"
             },
             "line": {
              "color": "white"
             }
            },
            "type": "table"
           }
          ]
         },
         "layout": {
          "annotationdefaults": {
           "arrowcolor": "#2a3f5f",
           "arrowhead": 0,
           "arrowwidth": 1
          },
          "autotypenumbers": "strict",
          "coloraxis": {
           "colorbar": {
            "outlinewidth": 0,
            "ticks": ""
           }
          },
          "colorscale": {
           "diverging": [
            [
             0,
             "#8e0152"
            ],
            [
             0.1,
             "#c51b7d"
            ],
            [
             0.2,
             "#de77ae"
            ],
            [
             0.3,
             "#f1b6da"
            ],
            [
             0.4,
             "#fde0ef"
            ],
            [
             0.5,
             "#f7f7f7"
            ],
            [
             0.6,
             "#e6f5d0"
            ],
            [
             0.7,
             "#b8e186"
            ],
            [
             0.8,
             "#7fbc41"
            ],
            [
             0.9,
             "#4d9221"
            ],
            [
             1,
             "#276419"
            ]
           ],
           "sequential": [
            [
             0,
             "#0d0887"
            ],
            [
             0.1111111111111111,
             "#46039f"
            ],
            [
             0.2222222222222222,
             "#7201a8"
            ],
            [
             0.3333333333333333,
             "#9c179e"
            ],
            [
             0.4444444444444444,
             "#bd3786"
            ],
            [
             0.5555555555555556,
             "#d8576b"
            ],
            [
             0.6666666666666666,
             "#ed7953"
            ],
            [
             0.7777777777777778,
             "#fb9f3a"
            ],
            [
             0.8888888888888888,
             "#fdca26"
            ],
            [
             1,
             "#f0f921"
            ]
           ],
           "sequentialminus": [
            [
             0,
             "#0d0887"
            ],
            [
             0.1111111111111111,
             "#46039f"
            ],
            [
             0.2222222222222222,
             "#7201a8"
            ],
            [
             0.3333333333333333,
             "#9c179e"
            ],
            [
             0.4444444444444444,
             "#bd3786"
            ],
            [
             0.5555555555555556,
             "#d8576b"
            ],
            [
             0.6666666666666666,
             "#ed7953"
            ],
            [
             0.7777777777777778,
             "#fb9f3a"
            ],
            [
             0.8888888888888888,
             "#fdca26"
            ],
            [
             1,
             "#f0f921"
            ]
           ]
          },
          "colorway": [
           "#636efa",
           "#EF553B",
           "#00cc96",
           "#ab63fa",
           "#FFA15A",
           "#19d3f3",
           "#FF6692",
           "#B6E880",
           "#FF97FF",
           "#FECB52"
          ],
          "font": {
           "color": "#2a3f5f"
          },
          "geo": {
           "bgcolor": "white",
           "lakecolor": "white",
           "landcolor": "#E5ECF6",
           "showlakes": true,
           "showland": true,
           "subunitcolor": "white"
          },
          "hoverlabel": {
           "align": "left"
          },
          "hovermode": "closest",
          "mapbox": {
           "style": "light"
          },
          "paper_bgcolor": "white",
          "plot_bgcolor": "#E5ECF6",
          "polar": {
           "angularaxis": {
            "gridcolor": "white",
            "linecolor": "white",
            "ticks": ""
           },
           "bgcolor": "#E5ECF6",
           "radialaxis": {
            "gridcolor": "white",
            "linecolor": "white",
            "ticks": ""
           }
          },
          "scene": {
           "xaxis": {
            "backgroundcolor": "#E5ECF6",
            "gridcolor": "white",
            "gridwidth": 2,
            "linecolor": "white",
            "showbackground": true,
            "ticks": "",
            "zerolinecolor": "white"
           },
           "yaxis": {
            "backgroundcolor": "#E5ECF6",
            "gridcolor": "white",
            "gridwidth": 2,
            "linecolor": "white",
            "showbackground": true,
            "ticks": "",
            "zerolinecolor": "white"
           },
           "zaxis": {
            "backgroundcolor": "#E5ECF6",
            "gridcolor": "white",
            "gridwidth": 2,
            "linecolor": "white",
            "showbackground": true,
            "ticks": "",
            "zerolinecolor": "white"
           }
          },
          "shapedefaults": {
           "line": {
            "color": "#2a3f5f"
           }
          },
          "ternary": {
           "aaxis": {
            "gridcolor": "white",
            "linecolor": "white",
            "ticks": ""
           },
           "baxis": {
            "gridcolor": "white",
            "linecolor": "white",
            "ticks": ""
           },
           "bgcolor": "#E5ECF6",
           "caxis": {
            "gridcolor": "white",
            "linecolor": "white",
            "ticks": ""
           }
          },
          "title": {
           "x": 0.05
          },
          "xaxis": {
           "automargin": true,
           "gridcolor": "white",
           "linecolor": "white",
           "ticks": "",
           "title": {
            "standoff": 15
           },
           "zerolinecolor": "white",
           "zerolinewidth": 2
          },
          "yaxis": {
           "automargin": true,
           "gridcolor": "white",
           "linecolor": "white",
           "ticks": "",
           "title": {
            "standoff": 15
           },
           "zerolinecolor": "white",
           "zerolinewidth": 2
          }
         }
        },
        "title": {
         "text": "Box Plot of the Sentiments for News Headlines in Ireland from November 2022 to March 2023"
        },
        "xaxis": {
         "anchor": "y",
         "categoryarray": [
          "November 2022",
          "December 2022",
          "January 2023",
          "February 2023",
          "March 2023"
         ],
         "categoryorder": "array",
         "domain": [
          0,
          1
         ],
         "title": {
          "text": "month"
         }
        },
        "yaxis": {
         "anchor": "x",
         "domain": [
          0,
          1
         ],
         "title": {
          "text": "sentiment"
         }
        }
       }
      },
      "text/html": [
       "<div>                            <div id=\"aaf35e75-04e9-4df7-9076-3d99db630d01\" class=\"plotly-graph-div\" style=\"height:525px; width:100%;\"></div>            <script type=\"text/javascript\">                require([\"plotly\"], function(Plotly) {                    window.PLOTLYENV=window.PLOTLYENV || {};                                    if (document.getElementById(\"aaf35e75-04e9-4df7-9076-3d99db630d01\")) {                    Plotly.newPlot(                        \"aaf35e75-04e9-4df7-9076-3d99db630d01\",                        [{\"alignmentgroup\":\"True\",\"hovertemplate\":\"month=%{x}<br>sentiment=%{y}<extra></extra>\",\"legendgroup\":\"January 2023\",\"marker\":{\"color\":\"#A7B8F8\"},\"name\":\"January 2023\",\"notched\":false,\"offsetgroup\":\"January 2023\",\"orientation\":\"v\",\"showlegend\":true,\"x\":[\"January 2023\",\"January 2023\",\"January 2023\",\"January 2023\",\"January 2023\",\"January 2023\",\"January 2023\",\"January 2023\",\"January 2023\",\"January 2023\",\"January 2023\",\"January 2023\",\"January 2023\",\"January 2023\",\"January 2023\",\"January 2023\",\"January 2023\",\"January 2023\",\"January 2023\",\"January 2023\",\"January 2023\",\"January 2023\",\"January 2023\",\"January 2023\",\"January 2023\",\"January 2023\",\"January 2023\",\"January 2023\",\"January 2023\",\"January 2023\",\"January 2023\",\"January 2023\",\"January 2023\",\"January 2023\",\"January 2023\",\"January 2023\",\"January 2023\",\"January 2023\",\"January 2023\",\"January 2023\",\"January 2023\",\"January 2023\",\"January 2023\",\"January 2023\",\"January 2023\",\"January 2023\",\"January 2023\",\"January 2023\",\"January 2023\",\"January 2023\",\"January 2023\",\"January 2023\",\"January 2023\",\"January 2023\",\"January 2023\",\"January 2023\",\"January 2023\",\"January 2023\",\"January 2023\",\"January 2023\",\"January 2023\",\"January 2023\",\"January 2023\",\"January 2023\",\"January 2023\",\"January 2023\",\"January 2023\",\"January 2023\",\"January 2023\",\"January 2023\",\"January 2023\",\"January 2023\",\"January 2023\",\"January 2023\",\"January 2023\",\"January 2023\"],\"x0\":\" \",\"xaxis\":\"x\",\"y\":[0.341,-0.077,0.365,0.358,-0.127,0.271,-0.283,-0.102,-0.019,0.289,0.611,-0.09,0.067,-0.252,0.032,-0.21,-0.302,0.38,-0.348,-0.24,-0.118,0.111,-0.442,-0.248,0.331,-0.346,0.215,0.13,0.054,-0.289,-0.114,-0.533,-0.129,-0.036,0.046,-0.396,-0.258,0.67,0.165,0.011,0.671,-0.255,0.044,0.201,-0.393,0.648,-0.44,-0.05,-0.017,0.216,0.176,0.621,-0.245,0.07,0.053,0.172,-0.131,0.085,0.09,-0.152,-0.279,0.144,0.362,-0.403,-0.265,0.398,-0.369,-0.455,0.37,-0.143,-0.328,0.041,-0.201,0.24,0.237,-0.206],\"y0\":\" \",\"yaxis\":\"y\",\"type\":\"box\"},{\"alignmentgroup\":\"True\",\"hovertemplate\":\"month=%{x}<br>sentiment=%{y}<extra></extra>\",\"legendgroup\":\"December 2022\",\"marker\":{\"color\":\"#6073B1\"},\"name\":\"December 2022\",\"notched\":false,\"offsetgroup\":\"December 2022\",\"orientation\":\"v\",\"showlegend\":true,\"x\":[\"December 2022\",\"December 2022\",\"December 2022\",\"December 2022\",\"December 2022\",\"December 2022\",\"December 2022\",\"December 2022\",\"December 2022\",\"December 2022\",\"December 2022\",\"December 2022\",\"December 2022\",\"December 2022\",\"December 2022\",\"December 2022\",\"December 2022\",\"December 2022\",\"December 2022\",\"December 2022\",\"December 2022\",\"December 2022\",\"December 2022\",\"December 2022\",\"December 2022\",\"December 2022\",\"December 2022\",\"December 2022\",\"December 2022\",\"December 2022\",\"December 2022\",\"December 2022\",\"December 2022\",\"December 2022\",\"December 2022\",\"December 2022\",\"December 2022\",\"December 2022\",\"December 2022\",\"December 2022\",\"December 2022\",\"December 2022\",\"December 2022\",\"December 2022\",\"December 2022\",\"December 2022\",\"December 2022\",\"December 2022\",\"December 2022\",\"December 2022\",\"December 2022\",\"December 2022\",\"December 2022\",\"December 2022\",\"December 2022\",\"December 2022\",\"December 2022\",\"December 2022\",\"December 2022\",\"December 2022\",\"December 2022\",\"December 2022\",\"December 2022\",\"December 2022\",\"December 2022\",\"December 2022\",\"December 2022\",\"December 2022\",\"December 2022\",\"December 2022\",\"December 2022\",\"December 2022\",\"December 2022\",\"December 2022\",\"December 2022\",\"December 2022\",\"December 2022\",\"December 2022\",\"December 2022\",\"December 2022\",\"December 2022\",\"December 2022\",\"December 2022\",\"December 2022\",\"December 2022\",\"December 2022\",\"December 2022\",\"December 2022\",\"December 2022\",\"December 2022\",\"December 2022\",\"December 2022\",\"December 2022\",\"December 2022\",\"December 2022\",\"December 2022\",\"December 2022\",\"December 2022\",\"December 2022\",\"December 2022\",\"December 2022\",\"December 2022\",\"December 2022\",\"December 2022\",\"December 2022\",\"December 2022\",\"December 2022\",\"December 2022\",\"December 2022\",\"December 2022\",\"December 2022\",\"December 2022\",\"December 2022\",\"December 2022\",\"December 2022\",\"December 2022\",\"December 2022\",\"December 2022\"],\"x0\":\" \",\"xaxis\":\"x\",\"y\":[0.377,-0.137,0.381,0.128,0.014,0.246,-0.345,-0.012,-0.221,-0.215,-0.316,0.381,-0.301,0.356,-0.221,0.478,0.341,0.244,-0.045,0.14,-0.048,-0.06,0.103,0.341,-0.102,-0.301,-0.335,0.001,0.207,-0.307,0.137,0.055,-0.189,0.226,-0.058,-0.336,-0.621,0.207,-0.108,-0.122,0.158,-0.156,-0.215,-0.129,0.2,-0.104,-0.201,0.147,-0.12,0.038,-0.149,-0.244,0.168,-0.123,-0.301,0.062,0.64,-0.314,-0.197,-0.245,-0.3,0.042,-0.278,-0.088,-0.084,0.037,0.122,0.37,0.387,-0.157,-0.293,0.25,-0.165,-0.062,0.199,0.095,-0.117,-0.292,-0.186,-0.013,-0.096,-0.214,0.211,0.551,0.23,0.025,0.046,-0.311,-0.227,0.272,-0.084,0.52,-0.314,-0.204,-0.379,-0.169,0.032,-0.382,0.225,0.095,0.34,-0.287,-0.056,-0.292,0.228,0.094,-0.371,-0.142,0.014,-0.118,0.103,-0.065,0.074,0.018,-0.347,-0.231,0.166,0.448],\"y0\":\" \",\"yaxis\":\"y\",\"type\":\"box\"},{\"alignmentgroup\":\"True\",\"hovertemplate\":\"month=%{x}<br>sentiment=%{y}<extra></extra>\",\"legendgroup\":\"February 2023\",\"marker\":{\"color\":\"#052955\"},\"name\":\"February 2023\",\"notched\":false,\"offsetgroup\":\"February 2023\",\"orientation\":\"v\",\"showlegend\":true,\"x\":[\"February 2023\",\"February 2023\",\"February 2023\",\"February 2023\",\"February 2023\",\"February 2023\",\"February 2023\",\"February 2023\",\"February 2023\",\"February 2023\",\"February 2023\",\"February 2023\",\"February 2023\",\"February 2023\",\"February 2023\",\"February 2023\",\"February 2023\",\"February 2023\",\"February 2023\",\"February 2023\",\"February 2023\",\"February 2023\",\"February 2023\",\"February 2023\",\"February 2023\",\"February 2023\",\"February 2023\",\"February 2023\",\"February 2023\",\"February 2023\",\"February 2023\",\"February 2023\",\"February 2023\",\"February 2023\",\"February 2023\",\"February 2023\",\"February 2023\",\"February 2023\",\"February 2023\",\"February 2023\",\"February 2023\",\"February 2023\",\"February 2023\",\"February 2023\",\"February 2023\",\"February 2023\",\"February 2023\",\"February 2023\"],\"x0\":\" \",\"xaxis\":\"x\",\"y\":[-0.146,-0.364,0.189,-0.134,-0.065,0.428,-0.236,0.302,0.175,-0.399,-0.195,-0.267,0.044,0.213,-0.22,-0.09,-0.14,0.177,0.231,-0.051,0.162,-0.213,-0.327,-0.367,0.293,0.16,0.447,-0.372,-0.282,-0.013,0.001,0.159,-0.413,0.189,0.473,0.025,-0.063,0.3,0.424,-0.421,-0.106,0.574,0.348,-0.121,-0.093,0.044,0.288,-0.313],\"y0\":\" \",\"yaxis\":\"y\",\"type\":\"box\"},{\"alignmentgroup\":\"True\",\"hovertemplate\":\"month=%{x}<br>sentiment=%{y}<extra></extra>\",\"legendgroup\":\"March 2023\",\"marker\":{\"color\":\"#2E2B21\"},\"name\":\"March 2023\",\"notched\":false,\"offsetgroup\":\"March 2023\",\"orientation\":\"v\",\"showlegend\":true,\"x\":[\"March 2023\",\"March 2023\",\"March 2023\",\"March 2023\",\"March 2023\",\"March 2023\",\"March 2023\",\"March 2023\",\"March 2023\",\"March 2023\",\"March 2023\",\"March 2023\",\"March 2023\",\"March 2023\",\"March 2023\",\"March 2023\",\"March 2023\",\"March 2023\",\"March 2023\",\"March 2023\",\"March 2023\",\"March 2023\",\"March 2023\",\"March 2023\",\"March 2023\",\"March 2023\",\"March 2023\",\"March 2023\",\"March 2023\",\"March 2023\",\"March 2023\",\"March 2023\",\"March 2023\",\"March 2023\",\"March 2023\",\"March 2023\",\"March 2023\",\"March 2023\",\"March 2023\",\"March 2023\",\"March 2023\",\"March 2023\",\"March 2023\",\"March 2023\",\"March 2023\",\"March 2023\",\"March 2023\",\"March 2023\",\"March 2023\",\"March 2023\",\"March 2023\",\"March 2023\",\"March 2023\",\"March 2023\",\"March 2023\",\"March 2023\",\"March 2023\",\"March 2023\",\"March 2023\",\"March 2023\",\"March 2023\",\"March 2023\",\"March 2023\",\"March 2023\",\"March 2023\",\"March 2023\",\"March 2023\",\"March 2023\",\"March 2023\",\"March 2023\",\"March 2023\",\"March 2023\",\"March 2023\",\"March 2023\",\"March 2023\",\"March 2023\",\"March 2023\",\"March 2023\",\"March 2023\",\"March 2023\",\"March 2023\",\"March 2023\",\"March 2023\",\"March 2023\",\"March 2023\",\"March 2023\",\"March 2023\",\"March 2023\",\"March 2023\",\"March 2023\",\"March 2023\",\"March 2023\",\"March 2023\",\"March 2023\",\"March 2023\",\"March 2023\",\"March 2023\",\"March 2023\",\"March 2023\",\"March 2023\"],\"x0\":\" \",\"xaxis\":\"x\",\"y\":[-0.216,-0.213,-0.32,0.031,-0.506,0.355,-0.044,0.457,-0.033,-0.036,0.454,-0.109,0.598,0.493,-0.469,-0.024,0.385,-0.365,-0.326,-0.108,0.049,0.036,0.008,0.081,0.212,-0.477,0.416,0.059,-0.454,-0.273,0.162,0.005,-0.057,-0.029,-0.177,0.35,-0.064,-0.082,-0.093,-0.204,0.119,0.065,0.0,0.113,-0.444,0.128,-0.336,0.112,-0.019,-0.085,0.441,0.879,0.172,0.763,0.044,0.14,-0.233,0.611,-0.488,0.211,-0.137,-0.106,-0.259,0.643,0.369,-0.774,0.628,0.113,-0.118,-0.239,0.172,0.233,-0.003,-0.386,-0.097,0.247,-0.37,-0.136,0.482,0.249,-0.106,0.469,-0.196,-0.376,0.048,-0.076,0.186,0.043,-0.358,-0.428,-0.5,-0.088,-0.094,-0.159,-0.573,0.149,-0.363,-0.413,-0.031,0.574],\"y0\":\" \",\"yaxis\":\"y\",\"type\":\"box\"},{\"alignmentgroup\":\"True\",\"hovertemplate\":\"month=%{x}<br>sentiment=%{y}<extra></extra>\",\"legendgroup\":\"November 2022\",\"marker\":{\"color\":\"#AE9C45\"},\"name\":\"November 2022\",\"notched\":false,\"offsetgroup\":\"November 2022\",\"orientation\":\"v\",\"showlegend\":true,\"x\":[\"November 2022\",\"November 2022\",\"November 2022\",\"November 2022\",\"November 2022\",\"November 2022\",\"November 2022\",\"November 2022\",\"November 2022\",\"November 2022\",\"November 2022\",\"November 2022\",\"November 2022\",\"November 2022\",\"November 2022\",\"November 2022\",\"November 2022\",\"November 2022\",\"November 2022\",\"November 2022\",\"November 2022\",\"November 2022\",\"November 2022\",\"November 2022\",\"November 2022\",\"November 2022\",\"November 2022\",\"November 2022\",\"November 2022\",\"November 2022\",\"November 2022\",\"November 2022\",\"November 2022\",\"November 2022\",\"November 2022\",\"November 2022\",\"November 2022\",\"November 2022\",\"November 2022\",\"November 2022\",\"November 2022\",\"November 2022\",\"November 2022\",\"November 2022\",\"November 2022\",\"November 2022\",\"November 2022\",\"November 2022\",\"November 2022\",\"November 2022\",\"November 2022\",\"November 2022\",\"November 2022\",\"November 2022\",\"November 2022\",\"November 2022\",\"November 2022\",\"November 2022\",\"November 2022\",\"November 2022\",\"November 2022\",\"November 2022\",\"November 2022\",\"November 2022\",\"November 2022\",\"November 2022\",\"November 2022\",\"November 2022\",\"November 2022\",\"November 2022\",\"November 2022\",\"November 2022\",\"November 2022\",\"November 2022\",\"November 2022\",\"November 2022\",\"November 2022\",\"November 2022\",\"November 2022\",\"November 2022\",\"November 2022\",\"November 2022\",\"November 2022\",\"November 2022\"],\"x0\":\" \",\"xaxis\":\"x\",\"y\":[-0.085,0.055,-0.043,0.296,0.188,-0.366,-0.184,-0.472,-0.139,0.249,0.301,-0.386,0.057,0.168,0.307,0.734,-0.09,-0.542,0.004,0.448,-0.533,-0.14,-0.113,0.114,-0.079,-0.326,-0.288,0.226,0.201,-0.188,0.337,-0.214,0.213,-0.396,0.497,-0.673,0.401,-0.168,-0.487,-0.131,-0.055,0.293,0.504,-0.597,-0.387,0.545,-0.196,-0.469,0.273,-0.27,0.034,-0.14,0.196,-0.153,-0.371,0.093,0.597,-0.341,-0.033,0.055,0.742,0.046,-0.014,0.007,0.513,-0.219,0.259,0.057,-0.299,-0.34,0.159,-0.323,0.021,0.227,-0.168,0.106,0.147,-0.274,0.166,0.552,0.017,-0.368,0.092,0.094],\"y0\":\" \",\"yaxis\":\"y\",\"type\":\"box\"}],                        {\"template\":{\"data\":{\"histogram2dcontour\":[{\"type\":\"histogram2dcontour\",\"colorbar\":{\"outlinewidth\":0,\"ticks\":\"\"},\"colorscale\":[[0.0,\"#0d0887\"],[0.1111111111111111,\"#46039f\"],[0.2222222222222222,\"#7201a8\"],[0.3333333333333333,\"#9c179e\"],[0.4444444444444444,\"#bd3786\"],[0.5555555555555556,\"#d8576b\"],[0.6666666666666666,\"#ed7953\"],[0.7777777777777778,\"#fb9f3a\"],[0.8888888888888888,\"#fdca26\"],[1.0,\"#f0f921\"]]}],\"choropleth\":[{\"type\":\"choropleth\",\"colorbar\":{\"outlinewidth\":0,\"ticks\":\"\"}}],\"histogram2d\":[{\"type\":\"histogram2d\",\"colorbar\":{\"outlinewidth\":0,\"ticks\":\"\"},\"colorscale\":[[0.0,\"#0d0887\"],[0.1111111111111111,\"#46039f\"],[0.2222222222222222,\"#7201a8\"],[0.3333333333333333,\"#9c179e\"],[0.4444444444444444,\"#bd3786\"],[0.5555555555555556,\"#d8576b\"],[0.6666666666666666,\"#ed7953\"],[0.7777777777777778,\"#fb9f3a\"],[0.8888888888888888,\"#fdca26\"],[1.0,\"#f0f921\"]]}],\"heatmap\":[{\"type\":\"heatmap\",\"colorbar\":{\"outlinewidth\":0,\"ticks\":\"\"},\"colorscale\":[[0.0,\"#0d0887\"],[0.1111111111111111,\"#46039f\"],[0.2222222222222222,\"#7201a8\"],[0.3333333333333333,\"#9c179e\"],[0.4444444444444444,\"#bd3786\"],[0.5555555555555556,\"#d8576b\"],[0.6666666666666666,\"#ed7953\"],[0.7777777777777778,\"#fb9f3a\"],[0.8888888888888888,\"#fdca26\"],[1.0,\"#f0f921\"]]}],\"heatmapgl\":[{\"type\":\"heatmapgl\",\"colorbar\":{\"outlinewidth\":0,\"ticks\":\"\"},\"colorscale\":[[0.0,\"#0d0887\"],[0.1111111111111111,\"#46039f\"],[0.2222222222222222,\"#7201a8\"],[0.3333333333333333,\"#9c179e\"],[0.4444444444444444,\"#bd3786\"],[0.5555555555555556,\"#d8576b\"],[0.6666666666666666,\"#ed7953\"],[0.7777777777777778,\"#fb9f3a\"],[0.8888888888888888,\"#fdca26\"],[1.0,\"#f0f921\"]]}],\"contourcarpet\":[{\"type\":\"contourcarpet\",\"colorbar\":{\"outlinewidth\":0,\"ticks\":\"\"}}],\"contour\":[{\"type\":\"contour\",\"colorbar\":{\"outlinewidth\":0,\"ticks\":\"\"},\"colorscale\":[[0.0,\"#0d0887\"],[0.1111111111111111,\"#46039f\"],[0.2222222222222222,\"#7201a8\"],[0.3333333333333333,\"#9c179e\"],[0.4444444444444444,\"#bd3786\"],[0.5555555555555556,\"#d8576b\"],[0.6666666666666666,\"#ed7953\"],[0.7777777777777778,\"#fb9f3a\"],[0.8888888888888888,\"#fdca26\"],[1.0,\"#f0f921\"]]}],\"surface\":[{\"type\":\"surface\",\"colorbar\":{\"outlinewidth\":0,\"ticks\":\"\"},\"colorscale\":[[0.0,\"#0d0887\"],[0.1111111111111111,\"#46039f\"],[0.2222222222222222,\"#7201a8\"],[0.3333333333333333,\"#9c179e\"],[0.4444444444444444,\"#bd3786\"],[0.5555555555555556,\"#d8576b\"],[0.6666666666666666,\"#ed7953\"],[0.7777777777777778,\"#fb9f3a\"],[0.8888888888888888,\"#fdca26\"],[1.0,\"#f0f921\"]]}],\"mesh3d\":[{\"type\":\"mesh3d\",\"colorbar\":{\"outlinewidth\":0,\"ticks\":\"\"}}],\"scatter\":[{\"fillpattern\":{\"fillmode\":\"overlay\",\"size\":10,\"solidity\":0.2},\"type\":\"scatter\"}],\"parcoords\":[{\"type\":\"parcoords\",\"line\":{\"colorbar\":{\"outlinewidth\":0,\"ticks\":\"\"}}}],\"scatterpolargl\":[{\"type\":\"scatterpolargl\",\"marker\":{\"colorbar\":{\"outlinewidth\":0,\"ticks\":\"\"}}}],\"bar\":[{\"error_x\":{\"color\":\"#2a3f5f\"},\"error_y\":{\"color\":\"#2a3f5f\"},\"marker\":{\"line\":{\"color\":\"#E5ECF6\",\"width\":0.5},\"pattern\":{\"fillmode\":\"overlay\",\"size\":10,\"solidity\":0.2}},\"type\":\"bar\"}],\"scattergeo\":[{\"type\":\"scattergeo\",\"marker\":{\"colorbar\":{\"outlinewidth\":0,\"ticks\":\"\"}}}],\"scatterpolar\":[{\"type\":\"scatterpolar\",\"marker\":{\"colorbar\":{\"outlinewidth\":0,\"ticks\":\"\"}}}],\"histogram\":[{\"marker\":{\"pattern\":{\"fillmode\":\"overlay\",\"size\":10,\"solidity\":0.2}},\"type\":\"histogram\"}],\"scattergl\":[{\"type\":\"scattergl\",\"marker\":{\"colorbar\":{\"outlinewidth\":0,\"ticks\":\"\"}}}],\"scatter3d\":[{\"type\":\"scatter3d\",\"line\":{\"colorbar\":{\"outlinewidth\":0,\"ticks\":\"\"}},\"marker\":{\"colorbar\":{\"outlinewidth\":0,\"ticks\":\"\"}}}],\"scattermapbox\":[{\"type\":\"scattermapbox\",\"marker\":{\"colorbar\":{\"outlinewidth\":0,\"ticks\":\"\"}}}],\"scatterternary\":[{\"type\":\"scatterternary\",\"marker\":{\"colorbar\":{\"outlinewidth\":0,\"ticks\":\"\"}}}],\"scattercarpet\":[{\"type\":\"scattercarpet\",\"marker\":{\"colorbar\":{\"outlinewidth\":0,\"ticks\":\"\"}}}],\"carpet\":[{\"aaxis\":{\"endlinecolor\":\"#2a3f5f\",\"gridcolor\":\"white\",\"linecolor\":\"white\",\"minorgridcolor\":\"white\",\"startlinecolor\":\"#2a3f5f\"},\"baxis\":{\"endlinecolor\":\"#2a3f5f\",\"gridcolor\":\"white\",\"linecolor\":\"white\",\"minorgridcolor\":\"white\",\"startlinecolor\":\"#2a3f5f\"},\"type\":\"carpet\"}],\"table\":[{\"cells\":{\"fill\":{\"color\":\"#EBF0F8\"},\"line\":{\"color\":\"white\"}},\"header\":{\"fill\":{\"color\":\"#C8D4E3\"},\"line\":{\"color\":\"white\"}},\"type\":\"table\"}],\"barpolar\":[{\"marker\":{\"line\":{\"color\":\"#E5ECF6\",\"width\":0.5},\"pattern\":{\"fillmode\":\"overlay\",\"size\":10,\"solidity\":0.2}},\"type\":\"barpolar\"}],\"pie\":[{\"automargin\":true,\"type\":\"pie\"}]},\"layout\":{\"autotypenumbers\":\"strict\",\"colorway\":[\"#636efa\",\"#EF553B\",\"#00cc96\",\"#ab63fa\",\"#FFA15A\",\"#19d3f3\",\"#FF6692\",\"#B6E880\",\"#FF97FF\",\"#FECB52\"],\"font\":{\"color\":\"#2a3f5f\"},\"hovermode\":\"closest\",\"hoverlabel\":{\"align\":\"left\"},\"paper_bgcolor\":\"white\",\"plot_bgcolor\":\"#E5ECF6\",\"polar\":{\"bgcolor\":\"#E5ECF6\",\"angularaxis\":{\"gridcolor\":\"white\",\"linecolor\":\"white\",\"ticks\":\"\"},\"radialaxis\":{\"gridcolor\":\"white\",\"linecolor\":\"white\",\"ticks\":\"\"}},\"ternary\":{\"bgcolor\":\"#E5ECF6\",\"aaxis\":{\"gridcolor\":\"white\",\"linecolor\":\"white\",\"ticks\":\"\"},\"baxis\":{\"gridcolor\":\"white\",\"linecolor\":\"white\",\"ticks\":\"\"},\"caxis\":{\"gridcolor\":\"white\",\"linecolor\":\"white\",\"ticks\":\"\"}},\"coloraxis\":{\"colorbar\":{\"outlinewidth\":0,\"ticks\":\"\"}},\"colorscale\":{\"sequential\":[[0.0,\"#0d0887\"],[0.1111111111111111,\"#46039f\"],[0.2222222222222222,\"#7201a8\"],[0.3333333333333333,\"#9c179e\"],[0.4444444444444444,\"#bd3786\"],[0.5555555555555556,\"#d8576b\"],[0.6666666666666666,\"#ed7953\"],[0.7777777777777778,\"#fb9f3a\"],[0.8888888888888888,\"#fdca26\"],[1.0,\"#f0f921\"]],\"sequentialminus\":[[0.0,\"#0d0887\"],[0.1111111111111111,\"#46039f\"],[0.2222222222222222,\"#7201a8\"],[0.3333333333333333,\"#9c179e\"],[0.4444444444444444,\"#bd3786\"],[0.5555555555555556,\"#d8576b\"],[0.6666666666666666,\"#ed7953\"],[0.7777777777777778,\"#fb9f3a\"],[0.8888888888888888,\"#fdca26\"],[1.0,\"#f0f921\"]],\"diverging\":[[0,\"#8e0152\"],[0.1,\"#c51b7d\"],[0.2,\"#de77ae\"],[0.3,\"#f1b6da\"],[0.4,\"#fde0ef\"],[0.5,\"#f7f7f7\"],[0.6,\"#e6f5d0\"],[0.7,\"#b8e186\"],[0.8,\"#7fbc41\"],[0.9,\"#4d9221\"],[1,\"#276419\"]]},\"xaxis\":{\"gridcolor\":\"white\",\"linecolor\":\"white\",\"ticks\":\"\",\"title\":{\"standoff\":15},\"zerolinecolor\":\"white\",\"automargin\":true,\"zerolinewidth\":2},\"yaxis\":{\"gridcolor\":\"white\",\"linecolor\":\"white\",\"ticks\":\"\",\"title\":{\"standoff\":15},\"zerolinecolor\":\"white\",\"automargin\":true,\"zerolinewidth\":2},\"scene\":{\"xaxis\":{\"backgroundcolor\":\"#E5ECF6\",\"gridcolor\":\"white\",\"linecolor\":\"white\",\"showbackground\":true,\"ticks\":\"\",\"zerolinecolor\":\"white\",\"gridwidth\":2},\"yaxis\":{\"backgroundcolor\":\"#E5ECF6\",\"gridcolor\":\"white\",\"linecolor\":\"white\",\"showbackground\":true,\"ticks\":\"\",\"zerolinecolor\":\"white\",\"gridwidth\":2},\"zaxis\":{\"backgroundcolor\":\"#E5ECF6\",\"gridcolor\":\"white\",\"linecolor\":\"white\",\"showbackground\":true,\"ticks\":\"\",\"zerolinecolor\":\"white\",\"gridwidth\":2}},\"shapedefaults\":{\"line\":{\"color\":\"#2a3f5f\"}},\"annotationdefaults\":{\"arrowcolor\":\"#2a3f5f\",\"arrowhead\":0,\"arrowwidth\":1},\"geo\":{\"bgcolor\":\"white\",\"landcolor\":\"#E5ECF6\",\"subunitcolor\":\"white\",\"showland\":true,\"showlakes\":true,\"lakecolor\":\"white\"},\"title\":{\"x\":0.05},\"mapbox\":{\"style\":\"light\"}}},\"xaxis\":{\"anchor\":\"y\",\"domain\":[0.0,1.0],\"title\":{\"text\":\"month\"},\"categoryorder\":\"array\",\"categoryarray\":[\"November 2022\",\"December 2022\",\"January 2023\",\"February 2023\",\"March 2023\"]},\"yaxis\":{\"anchor\":\"x\",\"domain\":[0.0,1.0],\"title\":{\"text\":\"sentiment\"}},\"legend\":{\"title\":{\"text\":\"month\"},\"tracegroupgap\":0},\"title\":{\"text\":\"Box Plot of the Sentiments for News Headlines in Ireland from November 2022 to March 2023\"},\"boxmode\":\"overlay\"},                        {\"responsive\": true}                    ).then(function(){\n",
       "                            \n",
       "var gd = document.getElementById('aaf35e75-04e9-4df7-9076-3d99db630d01');\n",
       "var x = new MutationObserver(function (mutations, observer) {{\n",
       "        var display = window.getComputedStyle(gd).display;\n",
       "        if (!display || display === 'none') {{\n",
       "            console.log([gd, 'removed!']);\n",
       "            Plotly.purge(gd);\n",
       "            observer.disconnect();\n",
       "        }}\n",
       "}});\n",
       "\n",
       "// Listen for the removal of the full notebook cells\n",
       "var notebookContainer = gd.closest('#notebook-container');\n",
       "if (notebookContainer) {{\n",
       "    x.observe(notebookContainer, {childList: true});\n",
       "}}\n",
       "\n",
       "// Listen for the clearing of the current output cell\n",
       "var outputEl = gd.closest('.output');\n",
       "if (outputEl) {{\n",
       "    x.observe(outputEl, {childList: true});\n",
       "}}\n",
       "\n",
       "                        })                };                });            </script>        </div>"
      ]
     },
     "metadata": {},
     "output_type": "display_data"
    }
   ],
   "source": [
    "# PROTANOPIA COLOR PALLETTE\n",
    "fig = px.box(\n",
    "    irelandNewsDF, \n",
    "    y=\"sentiment\", \n",
    "    x=\"month\", \n",
    "    color=\"month\",\n",
    "    title=\"Box Plot of the Sentiments for News Headlines in Ireland from November 2022 to March 2023\",\n",
    "    color_discrete_map={\n",
    "        \"November 2022\": \"#AE9C45\", \n",
    "        \"December 2022\": \"#6073B1\", \n",
    "        \"January 2023\": \"#A7B8F8\", \n",
    "        \"February 2023\": \"#052955\", \n",
    "        \"March 2023\": \"#2E2B21\"\n",
    "    }\n",
    ")\n",
    "fig.update_layout(xaxis={'categoryorder': 'array', 'categoryarray': [\"November 2022\", \"December 2022\", \"January 2023\", \"February 2023\", \"March 2023\",]})\n",
    "fig.show()"
   ]
  },
  {
   "cell_type": "markdown",
   "id": "c7d62e20",
   "metadata": {},
   "source": [
    "### UK News Dataset"
   ]
  },
  {
   "cell_type": "code",
   "execution_count": 19,
   "id": "72d586c6",
   "metadata": {
    "scrolled": true
   },
   "outputs": [
    {
     "data": {
      "text/html": [
       "<div>\n",
       "<style scoped>\n",
       "    .dataframe tbody tr th:only-of-type {\n",
       "        vertical-align: middle;\n",
       "    }\n",
       "\n",
       "    .dataframe tbody tr th {\n",
       "        vertical-align: top;\n",
       "    }\n",
       "\n",
       "    .dataframe thead th {\n",
       "        text-align: right;\n",
       "    }\n",
       "</style>\n",
       "<table border=\"1\" class=\"dataframe\">\n",
       "  <thead>\n",
       "    <tr style=\"text-align: right;\">\n",
       "      <th></th>\n",
       "      <th>id</th>\n",
       "      <th>title</th>\n",
       "      <th>publish_date</th>\n",
       "      <th>source_country</th>\n",
       "      <th>sentiment</th>\n",
       "    </tr>\n",
       "  </thead>\n",
       "  <tbody>\n",
       "    <tr>\n",
       "      <th>0</th>\n",
       "      <td>73732360</td>\n",
       "      <td>Biogas firm to hold consultation on £50 millio...</td>\n",
       "      <td>2022-11-28 14:19:32</td>\n",
       "      <td>GB</td>\n",
       "      <td>0.087</td>\n",
       "    </tr>\n",
       "    <tr>\n",
       "      <th>1</th>\n",
       "      <td>93801960</td>\n",
       "      <td>Scots Biotechnology network’s investment hits ...</td>\n",
       "      <td>2023-02-06 15:54:43</td>\n",
       "      <td>GB</td>\n",
       "      <td>0.251</td>\n",
       "    </tr>\n",
       "    <tr>\n",
       "      <th>2</th>\n",
       "      <td>70080002</td>\n",
       "      <td>Council chases owners of thousands of empty ho...</td>\n",
       "      <td>2022-11-17 09:36:50</td>\n",
       "      <td>GB</td>\n",
       "      <td>-0.111</td>\n",
       "    </tr>\n",
       "    <tr>\n",
       "      <th>3</th>\n",
       "      <td>68758894</td>\n",
       "      <td>The west’s ‘dash for gas’ in Africa is nothing...</td>\n",
       "      <td>2022-11-13 07:00:04</td>\n",
       "      <td>GB</td>\n",
       "      <td>-0.018</td>\n",
       "    </tr>\n",
       "    <tr>\n",
       "      <th>4</th>\n",
       "      <td>70141242</td>\n",
       "      <td>Mr Heaton-Harris was interested in how MJM Mar...</td>\n",
       "      <td>2022-11-17 14:26:52</td>\n",
       "      <td>GB</td>\n",
       "      <td>0.275</td>\n",
       "    </tr>\n",
       "  </tbody>\n",
       "</table>\n",
       "</div>"
      ],
      "text/plain": [
       "         id                                              title  \\\n",
       "0  73732360  Biogas firm to hold consultation on £50 millio...   \n",
       "1  93801960  Scots Biotechnology network’s investment hits ...   \n",
       "2  70080002  Council chases owners of thousands of empty ho...   \n",
       "3  68758894  The west’s ‘dash for gas’ in Africa is nothing...   \n",
       "4  70141242  Mr Heaton-Harris was interested in how MJM Mar...   \n",
       "\n",
       "          publish_date source_country  sentiment  \n",
       "0  2022-11-28 14:19:32             GB      0.087  \n",
       "1  2023-02-06 15:54:43             GB      0.251  \n",
       "2  2022-11-17 09:36:50             GB     -0.111  \n",
       "3  2022-11-13 07:00:04             GB     -0.018  \n",
       "4  2022-11-17 14:26:52             GB      0.275  "
      ]
     },
     "execution_count": 19,
     "metadata": {},
     "output_type": "execute_result"
    }
   ],
   "source": [
    "ukNewsDF = pd.read_csv('datasets/uk_news.csv')\n",
    "ukNewsDF.head()"
   ]
  },
  {
   "cell_type": "code",
   "execution_count": 20,
   "id": "01a07932",
   "metadata": {
    "scrolled": true
   },
   "outputs": [
    {
     "data": {
      "text/html": [
       "<div>\n",
       "<style scoped>\n",
       "    .dataframe tbody tr th:only-of-type {\n",
       "        vertical-align: middle;\n",
       "    }\n",
       "\n",
       "    .dataframe tbody tr th {\n",
       "        vertical-align: top;\n",
       "    }\n",
       "\n",
       "    .dataframe thead th {\n",
       "        text-align: right;\n",
       "    }\n",
       "</style>\n",
       "<table border=\"1\" class=\"dataframe\">\n",
       "  <thead>\n",
       "    <tr style=\"text-align: right;\">\n",
       "      <th></th>\n",
       "      <th>id</th>\n",
       "      <th>sentiment</th>\n",
       "    </tr>\n",
       "  </thead>\n",
       "  <tbody>\n",
       "    <tr>\n",
       "      <th>count</th>\n",
       "      <td>1.100000e+03</td>\n",
       "      <td>1100.000000</td>\n",
       "    </tr>\n",
       "    <tr>\n",
       "      <th>mean</th>\n",
       "      <td>8.728459e+07</td>\n",
       "      <td>0.011718</td>\n",
       "    </tr>\n",
       "    <tr>\n",
       "      <th>std</th>\n",
       "      <td>1.262186e+07</td>\n",
       "      <td>0.295913</td>\n",
       "    </tr>\n",
       "    <tr>\n",
       "      <th>min</th>\n",
       "      <td>6.479376e+07</td>\n",
       "      <td>-0.720000</td>\n",
       "    </tr>\n",
       "    <tr>\n",
       "      <th>25%</th>\n",
       "      <td>7.659114e+07</td>\n",
       "      <td>-0.194000</td>\n",
       "    </tr>\n",
       "    <tr>\n",
       "      <th>50%</th>\n",
       "      <td>8.827150e+07</td>\n",
       "      <td>-0.008000</td>\n",
       "    </tr>\n",
       "    <tr>\n",
       "      <th>75%</th>\n",
       "      <td>9.789417e+07</td>\n",
       "      <td>0.205250</td>\n",
       "    </tr>\n",
       "    <tr>\n",
       "      <th>max</th>\n",
       "      <td>1.084511e+08</td>\n",
       "      <td>0.894000</td>\n",
       "    </tr>\n",
       "  </tbody>\n",
       "</table>\n",
       "</div>"
      ],
      "text/plain": [
       "                 id    sentiment\n",
       "count  1.100000e+03  1100.000000\n",
       "mean   8.728459e+07     0.011718\n",
       "std    1.262186e+07     0.295913\n",
       "min    6.479376e+07    -0.720000\n",
       "25%    7.659114e+07    -0.194000\n",
       "50%    8.827150e+07    -0.008000\n",
       "75%    9.789417e+07     0.205250\n",
       "max    1.084511e+08     0.894000"
      ]
     },
     "execution_count": 20,
     "metadata": {},
     "output_type": "execute_result"
    }
   ],
   "source": [
    "ukNewsDF.describe()"
   ]
  },
  {
   "cell_type": "code",
   "execution_count": 21,
   "id": "94a3f472",
   "metadata": {
    "scrolled": true
   },
   "outputs": [
    {
     "name": "stdout",
     "output_type": "stream",
     "text": [
      "<class 'pandas.core.frame.DataFrame'>\n",
      "RangeIndex: 1100 entries, 0 to 1099\n",
      "Data columns (total 5 columns):\n",
      " #   Column          Non-Null Count  Dtype  \n",
      "---  ------          --------------  -----  \n",
      " 0   id              1100 non-null   int64  \n",
      " 1   title           1100 non-null   object \n",
      " 2   publish_date    1100 non-null   object \n",
      " 3   source_country  1100 non-null   object \n",
      " 4   sentiment       1100 non-null   float64\n",
      "dtypes: float64(1), int64(1), object(3)\n",
      "memory usage: 43.1+ KB\n"
     ]
    }
   ],
   "source": [
    "ukNewsDF.info()"
   ]
  },
  {
   "cell_type": "code",
   "execution_count": 22,
   "id": "e2ceae1e",
   "metadata": {},
   "outputs": [
    {
     "data": {
      "text/html": [
       "<div>\n",
       "<style scoped>\n",
       "    .dataframe tbody tr th:only-of-type {\n",
       "        vertical-align: middle;\n",
       "    }\n",
       "\n",
       "    .dataframe tbody tr th {\n",
       "        vertical-align: top;\n",
       "    }\n",
       "\n",
       "    .dataframe thead th {\n",
       "        text-align: right;\n",
       "    }\n",
       "</style>\n",
       "<table border=\"1\" class=\"dataframe\">\n",
       "  <thead>\n",
       "    <tr style=\"text-align: right;\">\n",
       "      <th></th>\n",
       "      <th>title</th>\n",
       "      <th>publish_date</th>\n",
       "      <th>source_country</th>\n",
       "      <th>sentiment</th>\n",
       "    </tr>\n",
       "  </thead>\n",
       "  <tbody>\n",
       "    <tr>\n",
       "      <th>0</th>\n",
       "      <td>Biogas firm to hold consultation on £50 millio...</td>\n",
       "      <td>2022-11-28 14:19:32</td>\n",
       "      <td>GB</td>\n",
       "      <td>0.087</td>\n",
       "    </tr>\n",
       "    <tr>\n",
       "      <th>1</th>\n",
       "      <td>Scots Biotechnology network’s investment hits ...</td>\n",
       "      <td>2023-02-06 15:54:43</td>\n",
       "      <td>GB</td>\n",
       "      <td>0.251</td>\n",
       "    </tr>\n",
       "    <tr>\n",
       "      <th>2</th>\n",
       "      <td>Council chases owners of thousands of empty ho...</td>\n",
       "      <td>2022-11-17 09:36:50</td>\n",
       "      <td>GB</td>\n",
       "      <td>-0.111</td>\n",
       "    </tr>\n",
       "    <tr>\n",
       "      <th>3</th>\n",
       "      <td>The west’s ‘dash for gas’ in Africa is nothing...</td>\n",
       "      <td>2022-11-13 07:00:04</td>\n",
       "      <td>GB</td>\n",
       "      <td>-0.018</td>\n",
       "    </tr>\n",
       "    <tr>\n",
       "      <th>4</th>\n",
       "      <td>Mr Heaton-Harris was interested in how MJM Mar...</td>\n",
       "      <td>2022-11-17 14:26:52</td>\n",
       "      <td>GB</td>\n",
       "      <td>0.275</td>\n",
       "    </tr>\n",
       "  </tbody>\n",
       "</table>\n",
       "</div>"
      ],
      "text/plain": [
       "                                               title        publish_date  \\\n",
       "0  Biogas firm to hold consultation on £50 millio... 2022-11-28 14:19:32   \n",
       "1  Scots Biotechnology network’s investment hits ... 2023-02-06 15:54:43   \n",
       "2  Council chases owners of thousands of empty ho... 2022-11-17 09:36:50   \n",
       "3  The west’s ‘dash for gas’ in Africa is nothing... 2022-11-13 07:00:04   \n",
       "4  Mr Heaton-Harris was interested in how MJM Mar... 2022-11-17 14:26:52   \n",
       "\n",
       "  source_country  sentiment  \n",
       "0             GB      0.087  \n",
       "1             GB      0.251  \n",
       "2             GB     -0.111  \n",
       "3             GB     -0.018  \n",
       "4             GB      0.275  "
      ]
     },
     "execution_count": 22,
     "metadata": {},
     "output_type": "execute_result"
    }
   ],
   "source": [
    "ukNewsDF.drop([\"id\"], axis=1, inplace=True)\n",
    "ukNewsDF[\"publish_date\"] = pd.to_datetime(ukNewsDF[\"publish_date\"])\n",
    "ukNewsDF = ukNewsDF[ukNewsDF[\"publish_date\"].dt.month != 4]\n",
    "ukNewsDF.head()"
   ]
  },
  {
   "cell_type": "code",
   "execution_count": 23,
   "id": "23cdc66f",
   "metadata": {},
   "outputs": [
    {
     "data": {
      "text/plain": [
       "(1092, 4)"
      ]
     },
     "execution_count": 23,
     "metadata": {},
     "output_type": "execute_result"
    }
   ],
   "source": [
    "ukNewsDF.shape"
   ]
  },
  {
   "cell_type": "code",
   "execution_count": 24,
   "id": "5ce6a2c5",
   "metadata": {},
   "outputs": [
    {
     "name": "stdout",
     "output_type": "stream",
     "text": [
      "<class 'pandas.core.frame.DataFrame'>\n",
      "Int64Index: 1092 entries, 0 to 1099\n",
      "Data columns (total 4 columns):\n",
      " #   Column          Non-Null Count  Dtype         \n",
      "---  ------          --------------  -----         \n",
      " 0   title           1092 non-null   object        \n",
      " 1   publish_date    1092 non-null   datetime64[ns]\n",
      " 2   source_country  1092 non-null   object        \n",
      " 3   sentiment       1092 non-null   float64       \n",
      "dtypes: datetime64[ns](1), float64(1), object(2)\n",
      "memory usage: 42.7+ KB\n"
     ]
    }
   ],
   "source": [
    "ukNewsDF.info()"
   ]
  },
  {
   "cell_type": "code",
   "execution_count": 25,
   "id": "fb82f99f",
   "metadata": {},
   "outputs": [],
   "source": [
    "# Replace the &amp;rsquo; and &amp;lsquo; with ' symbols\n",
    "ukNewsDF['cleaned_text'] = ukNewsDF['title'].str.replace('&amp;rsquo;', \"'\")\n",
    "ukNewsDF['cleaned_text'] = ukNewsDF['title'].str.replace('&amp;lsquo;', \"'\")\n",
    "ukNewsDF['cleaned_text'] = ukNewsDF['title'].apply(utils.lower_case)\n",
    "#remove punctuations\n",
    "ukNewsDF['cleaned_text'] = ukNewsDF['cleaned_text'].apply(utils.remove_punctuation)"
   ]
  },
  {
   "cell_type": "code",
   "execution_count": 26,
   "id": "04f77763",
   "metadata": {},
   "outputs": [],
   "source": [
    "ukNewsDF['cleaned_text'] = ukNewsDF['cleaned_text'].apply(utils.remove_stopwords)"
   ]
  },
  {
   "cell_type": "markdown",
   "id": "3a5df77b",
   "metadata": {},
   "source": [
    "Feature Extraction"
   ]
  },
  {
   "cell_type": "code",
   "execution_count": 27,
   "id": "c1870d0c",
   "metadata": {},
   "outputs": [],
   "source": [
    "ukNewsDF['sentiment_label'] = ukNewsDF['sentiment'].apply(utils.set_sentiment_label)"
   ]
  },
  {
   "cell_type": "code",
   "execution_count": 28,
   "id": "7e72939f",
   "metadata": {},
   "outputs": [],
   "source": [
    "ukNewsDF['word_length'] = ukNewsDF['title'].apply(utils.count_words)\n",
    "ukNewsDF['char_length'] = ukNewsDF['title'].str.len()"
   ]
  },
  {
   "cell_type": "code",
   "execution_count": 29,
   "id": "2fc4b559",
   "metadata": {},
   "outputs": [],
   "source": [
    "ukNewsDF[\"month\"] = ukNewsDF[\"publish_date\"].dt.strftime('%B %Y')"
   ]
  },
  {
   "cell_type": "code",
   "execution_count": 30,
   "id": "89cddf17",
   "metadata": {},
   "outputs": [
    {
     "data": {
      "text/html": [
       "<div>\n",
       "<style scoped>\n",
       "    .dataframe tbody tr th:only-of-type {\n",
       "        vertical-align: middle;\n",
       "    }\n",
       "\n",
       "    .dataframe tbody tr th {\n",
       "        vertical-align: top;\n",
       "    }\n",
       "\n",
       "    .dataframe thead th {\n",
       "        text-align: right;\n",
       "    }\n",
       "</style>\n",
       "<table border=\"1\" class=\"dataframe\">\n",
       "  <thead>\n",
       "    <tr style=\"text-align: right;\">\n",
       "      <th></th>\n",
       "      <th>title</th>\n",
       "      <th>publish_date</th>\n",
       "      <th>source_country</th>\n",
       "      <th>sentiment</th>\n",
       "      <th>cleaned_text</th>\n",
       "      <th>sentiment_label</th>\n",
       "      <th>word_length</th>\n",
       "      <th>char_length</th>\n",
       "      <th>month</th>\n",
       "    </tr>\n",
       "  </thead>\n",
       "  <tbody>\n",
       "    <tr>\n",
       "      <th>0</th>\n",
       "      <td>Biogas firm to hold consultation on £50 millio...</td>\n",
       "      <td>2022-11-28 14:19:32</td>\n",
       "      <td>GB</td>\n",
       "      <td>0.087</td>\n",
       "      <td>biogas firm hold consultation 50 million anaer...</td>\n",
       "      <td>positive</td>\n",
       "      <td>16</td>\n",
       "      <td>100</td>\n",
       "      <td>November 2022</td>\n",
       "    </tr>\n",
       "    <tr>\n",
       "      <th>1</th>\n",
       "      <td>Scots Biotechnology network’s investment hits ...</td>\n",
       "      <td>2023-02-06 15:54:43</td>\n",
       "      <td>GB</td>\n",
       "      <td>0.251</td>\n",
       "      <td>scots biotechnology network investment hits 25...</td>\n",
       "      <td>positive</td>\n",
       "      <td>7</td>\n",
       "      <td>57</td>\n",
       "      <td>February 2023</td>\n",
       "    </tr>\n",
       "    <tr>\n",
       "      <th>2</th>\n",
       "      <td>Council chases owners of thousands of empty ho...</td>\n",
       "      <td>2022-11-17 09:36:50</td>\n",
       "      <td>GB</td>\n",
       "      <td>-0.111</td>\n",
       "      <td>council chases owners thousands empty homes gl...</td>\n",
       "      <td>negative</td>\n",
       "      <td>10</td>\n",
       "      <td>60</td>\n",
       "      <td>November 2022</td>\n",
       "    </tr>\n",
       "    <tr>\n",
       "      <th>3</th>\n",
       "      <td>The west’s ‘dash for gas’ in Africa is nothing...</td>\n",
       "      <td>2022-11-13 07:00:04</td>\n",
       "      <td>GB</td>\n",
       "      <td>-0.018</td>\n",
       "      <td>west dash gas africa nothing energy colonialism</td>\n",
       "      <td>negative</td>\n",
       "      <td>13</td>\n",
       "      <td>75</td>\n",
       "      <td>November 2022</td>\n",
       "    </tr>\n",
       "    <tr>\n",
       "      <th>4</th>\n",
       "      <td>Mr Heaton-Harris was interested in how MJM Mar...</td>\n",
       "      <td>2022-11-17 14:26:52</td>\n",
       "      <td>GB</td>\n",
       "      <td>0.275</td>\n",
       "      <td>mr heaton-harris interested mjm marine mivan t...</td>\n",
       "      <td>positive</td>\n",
       "      <td>16</td>\n",
       "      <td>102</td>\n",
       "      <td>November 2022</td>\n",
       "    </tr>\n",
       "  </tbody>\n",
       "</table>\n",
       "</div>"
      ],
      "text/plain": [
       "                                               title        publish_date  \\\n",
       "0  Biogas firm to hold consultation on £50 millio... 2022-11-28 14:19:32   \n",
       "1  Scots Biotechnology network’s investment hits ... 2023-02-06 15:54:43   \n",
       "2  Council chases owners of thousands of empty ho... 2022-11-17 09:36:50   \n",
       "3  The west’s ‘dash for gas’ in Africa is nothing... 2022-11-13 07:00:04   \n",
       "4  Mr Heaton-Harris was interested in how MJM Mar... 2022-11-17 14:26:52   \n",
       "\n",
       "  source_country  sentiment  \\\n",
       "0             GB      0.087   \n",
       "1             GB      0.251   \n",
       "2             GB     -0.111   \n",
       "3             GB     -0.018   \n",
       "4             GB      0.275   \n",
       "\n",
       "                                        cleaned_text sentiment_label  \\\n",
       "0  biogas firm hold consultation 50 million anaer...        positive   \n",
       "1  scots biotechnology network investment hits 25...        positive   \n",
       "2  council chases owners thousands empty homes gl...        negative   \n",
       "3    west dash gas africa nothing energy colonialism        negative   \n",
       "4  mr heaton-harris interested mjm marine mivan t...        positive   \n",
       "\n",
       "   word_length  char_length          month  \n",
       "0           16          100  November 2022  \n",
       "1            7           57  February 2023  \n",
       "2           10           60  November 2022  \n",
       "3           13           75  November 2022  \n",
       "4           16          102  November 2022  "
      ]
     },
     "execution_count": 30,
     "metadata": {},
     "output_type": "execute_result"
    }
   ],
   "source": [
    "ukNewsDF.head()"
   ]
  },
  {
   "cell_type": "code",
   "execution_count": 48,
   "id": "5735574b",
   "metadata": {
    "scrolled": true
   },
   "outputs": [
    {
     "data": {
      "application/vnd.plotly.v1+json": {
       "config": {
        "plotlyServerURL": "https://plot.ly"
       },
       "data": [
        {
         "alignmentgroup": "True",
         "hovertemplate": "month=%{x}<br>sentiment=%{y}<extra></extra>",
         "legendgroup": "January 2023",
         "marker": {
          "color": "#A7B8F8"
         },
         "name": "January 2023",
         "notched": false,
         "offsetgroup": "January 2023",
         "orientation": "v",
         "showlegend": true,
         "type": "box",
         "x": [
          "January 2023",
          "January 2023",
          "January 2023",
          "January 2023",
          "January 2023",
          "January 2023",
          "January 2023",
          "January 2023",
          "January 2023",
          "January 2023",
          "January 2023",
          "January 2023",
          "January 2023",
          "January 2023",
          "January 2023",
          "January 2023",
          "January 2023",
          "January 2023",
          "January 2023",
          "January 2023",
          "January 2023",
          "January 2023",
          "January 2023",
          "January 2023",
          "January 2023",
          "January 2023",
          "January 2023",
          "January 2023",
          "January 2023",
          "January 2023",
          "January 2023",
          "January 2023",
          "January 2023",
          "January 2023",
          "January 2023",
          "January 2023",
          "January 2023",
          "January 2023",
          "January 2023",
          "January 2023",
          "January 2023",
          "January 2023",
          "January 2023",
          "January 2023",
          "January 2023",
          "January 2023",
          "January 2023",
          "January 2023",
          "January 2023",
          "January 2023",
          "January 2023",
          "January 2023",
          "January 2023",
          "January 2023",
          "January 2023",
          "January 2023",
          "January 2023",
          "January 2023",
          "January 2023",
          "January 2023",
          "January 2023",
          "January 2023",
          "January 2023",
          "January 2023",
          "January 2023",
          "January 2023",
          "January 2023",
          "January 2023",
          "January 2023",
          "January 2023",
          "January 2023",
          "January 2023",
          "January 2023",
          "January 2023",
          "January 2023",
          "January 2023"
         ],
         "x0": " ",
         "xaxis": "x",
         "y": [
          0.341,
          -0.077,
          0.365,
          0.358,
          -0.127,
          0.271,
          -0.283,
          -0.102,
          -0.019,
          0.289,
          0.611,
          -0.09,
          0.067,
          -0.252,
          0.032,
          -0.21,
          -0.302,
          0.38,
          -0.348,
          -0.24,
          -0.118,
          0.111,
          -0.442,
          -0.248,
          0.331,
          -0.346,
          0.215,
          0.13,
          0.054,
          -0.289,
          -0.114,
          -0.533,
          -0.129,
          -0.036,
          0.046,
          -0.396,
          -0.258,
          0.67,
          0.165,
          0.011,
          0.671,
          -0.255,
          0.044,
          0.201,
          -0.393,
          0.648,
          -0.44,
          -0.05,
          -0.017,
          0.216,
          0.176,
          0.621,
          -0.245,
          0.07,
          0.053,
          0.172,
          -0.131,
          0.085,
          0.09,
          -0.152,
          -0.279,
          0.144,
          0.362,
          -0.403,
          -0.265,
          0.398,
          -0.369,
          -0.455,
          0.37,
          -0.143,
          -0.328,
          0.041,
          -0.201,
          0.24,
          0.237,
          -0.206
         ],
         "y0": " ",
         "yaxis": "y"
        },
        {
         "alignmentgroup": "True",
         "hovertemplate": "month=%{x}<br>sentiment=%{y}<extra></extra>",
         "legendgroup": "December 2022",
         "marker": {
          "color": "#6073B1"
         },
         "name": "December 2022",
         "notched": false,
         "offsetgroup": "December 2022",
         "orientation": "v",
         "showlegend": true,
         "type": "box",
         "x": [
          "December 2022",
          "December 2022",
          "December 2022",
          "December 2022",
          "December 2022",
          "December 2022",
          "December 2022",
          "December 2022",
          "December 2022",
          "December 2022",
          "December 2022",
          "December 2022",
          "December 2022",
          "December 2022",
          "December 2022",
          "December 2022",
          "December 2022",
          "December 2022",
          "December 2022",
          "December 2022",
          "December 2022",
          "December 2022",
          "December 2022",
          "December 2022",
          "December 2022",
          "December 2022",
          "December 2022",
          "December 2022",
          "December 2022",
          "December 2022",
          "December 2022",
          "December 2022",
          "December 2022",
          "December 2022",
          "December 2022",
          "December 2022",
          "December 2022",
          "December 2022",
          "December 2022",
          "December 2022",
          "December 2022",
          "December 2022",
          "December 2022",
          "December 2022",
          "December 2022",
          "December 2022",
          "December 2022",
          "December 2022",
          "December 2022",
          "December 2022",
          "December 2022",
          "December 2022",
          "December 2022",
          "December 2022",
          "December 2022",
          "December 2022",
          "December 2022",
          "December 2022",
          "December 2022",
          "December 2022",
          "December 2022",
          "December 2022",
          "December 2022",
          "December 2022",
          "December 2022",
          "December 2022",
          "December 2022",
          "December 2022",
          "December 2022",
          "December 2022",
          "December 2022",
          "December 2022",
          "December 2022",
          "December 2022",
          "December 2022",
          "December 2022",
          "December 2022",
          "December 2022",
          "December 2022",
          "December 2022",
          "December 2022",
          "December 2022",
          "December 2022",
          "December 2022",
          "December 2022",
          "December 2022",
          "December 2022",
          "December 2022",
          "December 2022",
          "December 2022",
          "December 2022",
          "December 2022",
          "December 2022",
          "December 2022",
          "December 2022",
          "December 2022",
          "December 2022",
          "December 2022",
          "December 2022",
          "December 2022",
          "December 2022",
          "December 2022",
          "December 2022",
          "December 2022",
          "December 2022",
          "December 2022",
          "December 2022",
          "December 2022",
          "December 2022",
          "December 2022",
          "December 2022",
          "December 2022",
          "December 2022",
          "December 2022",
          "December 2022",
          "December 2022",
          "December 2022",
          "December 2022"
         ],
         "x0": " ",
         "xaxis": "x",
         "y": [
          0.377,
          -0.137,
          0.381,
          0.128,
          0.014,
          0.246,
          -0.345,
          -0.012,
          -0.221,
          -0.215,
          -0.316,
          0.381,
          -0.301,
          0.356,
          -0.221,
          0.478,
          0.341,
          0.244,
          -0.045,
          0.14,
          -0.048,
          -0.06,
          0.103,
          0.341,
          -0.102,
          -0.301,
          -0.335,
          0.001,
          0.207,
          -0.307,
          0.137,
          0.055,
          -0.189,
          0.226,
          -0.058,
          -0.336,
          -0.621,
          0.207,
          -0.108,
          -0.122,
          0.158,
          -0.156,
          -0.215,
          -0.129,
          0.2,
          -0.104,
          -0.201,
          0.147,
          -0.12,
          0.038,
          -0.149,
          -0.244,
          0.168,
          -0.123,
          -0.301,
          0.062,
          0.64,
          -0.314,
          -0.197,
          -0.245,
          -0.3,
          0.042,
          -0.278,
          -0.088,
          -0.084,
          0.037,
          0.122,
          0.37,
          0.387,
          -0.157,
          -0.293,
          0.25,
          -0.165,
          -0.062,
          0.199,
          0.095,
          -0.117,
          -0.292,
          -0.186,
          -0.013,
          -0.096,
          -0.214,
          0.211,
          0.551,
          0.23,
          0.025,
          0.046,
          -0.311,
          -0.227,
          0.272,
          -0.084,
          0.52,
          -0.314,
          -0.204,
          -0.379,
          -0.169,
          0.032,
          -0.382,
          0.225,
          0.095,
          0.34,
          -0.287,
          -0.056,
          -0.292,
          0.228,
          0.094,
          -0.371,
          -0.142,
          0.014,
          -0.118,
          0.103,
          -0.065,
          0.074,
          0.018,
          -0.347,
          -0.231,
          0.166,
          0.448
         ],
         "y0": " ",
         "yaxis": "y"
        },
        {
         "alignmentgroup": "True",
         "hovertemplate": "month=%{x}<br>sentiment=%{y}<extra></extra>",
         "legendgroup": "February 2023",
         "marker": {
          "color": "#052955"
         },
         "name": "February 2023",
         "notched": false,
         "offsetgroup": "February 2023",
         "orientation": "v",
         "showlegend": true,
         "type": "box",
         "x": [
          "February 2023",
          "February 2023",
          "February 2023",
          "February 2023",
          "February 2023",
          "February 2023",
          "February 2023",
          "February 2023",
          "February 2023",
          "February 2023",
          "February 2023",
          "February 2023",
          "February 2023",
          "February 2023",
          "February 2023",
          "February 2023",
          "February 2023",
          "February 2023",
          "February 2023",
          "February 2023",
          "February 2023",
          "February 2023",
          "February 2023",
          "February 2023",
          "February 2023",
          "February 2023",
          "February 2023",
          "February 2023",
          "February 2023",
          "February 2023",
          "February 2023",
          "February 2023",
          "February 2023",
          "February 2023",
          "February 2023",
          "February 2023",
          "February 2023",
          "February 2023",
          "February 2023",
          "February 2023",
          "February 2023",
          "February 2023",
          "February 2023",
          "February 2023",
          "February 2023",
          "February 2023",
          "February 2023",
          "February 2023"
         ],
         "x0": " ",
         "xaxis": "x",
         "y": [
          -0.146,
          -0.364,
          0.189,
          -0.134,
          -0.065,
          0.428,
          -0.236,
          0.302,
          0.175,
          -0.399,
          -0.195,
          -0.267,
          0.044,
          0.213,
          -0.22,
          -0.09,
          -0.14,
          0.177,
          0.231,
          -0.051,
          0.162,
          -0.213,
          -0.327,
          -0.367,
          0.293,
          0.16,
          0.447,
          -0.372,
          -0.282,
          -0.013,
          0.001,
          0.159,
          -0.413,
          0.189,
          0.473,
          0.025,
          -0.063,
          0.3,
          0.424,
          -0.421,
          -0.106,
          0.574,
          0.348,
          -0.121,
          -0.093,
          0.044,
          0.288,
          -0.313
         ],
         "y0": " ",
         "yaxis": "y"
        },
        {
         "alignmentgroup": "True",
         "hovertemplate": "month=%{x}<br>sentiment=%{y}<extra></extra>",
         "legendgroup": "March 2023",
         "marker": {
          "color": "#2E2B21"
         },
         "name": "March 2023",
         "notched": false,
         "offsetgroup": "March 2023",
         "orientation": "v",
         "showlegend": true,
         "type": "box",
         "x": [
          "March 2023",
          "March 2023",
          "March 2023",
          "March 2023",
          "March 2023",
          "March 2023",
          "March 2023",
          "March 2023",
          "March 2023",
          "March 2023",
          "March 2023",
          "March 2023",
          "March 2023",
          "March 2023",
          "March 2023",
          "March 2023",
          "March 2023",
          "March 2023",
          "March 2023",
          "March 2023",
          "March 2023",
          "March 2023",
          "March 2023",
          "March 2023",
          "March 2023",
          "March 2023",
          "March 2023",
          "March 2023",
          "March 2023",
          "March 2023",
          "March 2023",
          "March 2023",
          "March 2023",
          "March 2023",
          "March 2023",
          "March 2023",
          "March 2023",
          "March 2023",
          "March 2023",
          "March 2023",
          "March 2023",
          "March 2023",
          "March 2023",
          "March 2023",
          "March 2023",
          "March 2023",
          "March 2023",
          "March 2023",
          "March 2023",
          "March 2023",
          "March 2023",
          "March 2023",
          "March 2023",
          "March 2023",
          "March 2023",
          "March 2023",
          "March 2023",
          "March 2023",
          "March 2023",
          "March 2023",
          "March 2023",
          "March 2023",
          "March 2023",
          "March 2023",
          "March 2023",
          "March 2023",
          "March 2023",
          "March 2023",
          "March 2023",
          "March 2023",
          "March 2023",
          "March 2023",
          "March 2023",
          "March 2023",
          "March 2023",
          "March 2023",
          "March 2023",
          "March 2023",
          "March 2023",
          "March 2023",
          "March 2023",
          "March 2023",
          "March 2023",
          "March 2023",
          "March 2023",
          "March 2023",
          "March 2023",
          "March 2023",
          "March 2023",
          "March 2023",
          "March 2023",
          "March 2023",
          "March 2023",
          "March 2023",
          "March 2023",
          "March 2023",
          "March 2023",
          "March 2023",
          "March 2023",
          "March 2023"
         ],
         "x0": " ",
         "xaxis": "x",
         "y": [
          -0.216,
          -0.213,
          -0.32,
          0.031,
          -0.506,
          0.355,
          -0.044,
          0.457,
          -0.033,
          -0.036,
          0.454,
          -0.109,
          0.598,
          0.493,
          -0.469,
          -0.024,
          0.385,
          -0.365,
          -0.326,
          -0.108,
          0.049,
          0.036,
          0.008,
          0.081,
          0.212,
          -0.477,
          0.416,
          0.059,
          -0.454,
          -0.273,
          0.162,
          0.005,
          -0.057,
          -0.029,
          -0.177,
          0.35,
          -0.064,
          -0.082,
          -0.093,
          -0.204,
          0.119,
          0.065,
          0,
          0.113,
          -0.444,
          0.128,
          -0.336,
          0.112,
          -0.019,
          -0.085,
          0.441,
          0.879,
          0.172,
          0.763,
          0.044,
          0.14,
          -0.233,
          0.611,
          -0.488,
          0.211,
          -0.137,
          -0.106,
          -0.259,
          0.643,
          0.369,
          -0.774,
          0.628,
          0.113,
          -0.118,
          -0.239,
          0.172,
          0.233,
          -0.003,
          -0.386,
          -0.097,
          0.247,
          -0.37,
          -0.136,
          0.482,
          0.249,
          -0.106,
          0.469,
          -0.196,
          -0.376,
          0.048,
          -0.076,
          0.186,
          0.043,
          -0.358,
          -0.428,
          -0.5,
          -0.088,
          -0.094,
          -0.159,
          -0.573,
          0.149,
          -0.363,
          -0.413,
          -0.031,
          0.574
         ],
         "y0": " ",
         "yaxis": "y"
        },
        {
         "alignmentgroup": "True",
         "hovertemplate": "month=%{x}<br>sentiment=%{y}<extra></extra>",
         "legendgroup": "November 2022",
         "marker": {
          "color": "#AE9C45"
         },
         "name": "November 2022",
         "notched": false,
         "offsetgroup": "November 2022",
         "orientation": "v",
         "showlegend": true,
         "type": "box",
         "x": [
          "November 2022",
          "November 2022",
          "November 2022",
          "November 2022",
          "November 2022",
          "November 2022",
          "November 2022",
          "November 2022",
          "November 2022",
          "November 2022",
          "November 2022",
          "November 2022",
          "November 2022",
          "November 2022",
          "November 2022",
          "November 2022",
          "November 2022",
          "November 2022",
          "November 2022",
          "November 2022",
          "November 2022",
          "November 2022",
          "November 2022",
          "November 2022",
          "November 2022",
          "November 2022",
          "November 2022",
          "November 2022",
          "November 2022",
          "November 2022",
          "November 2022",
          "November 2022",
          "November 2022",
          "November 2022",
          "November 2022",
          "November 2022",
          "November 2022",
          "November 2022",
          "November 2022",
          "November 2022",
          "November 2022",
          "November 2022",
          "November 2022",
          "November 2022",
          "November 2022",
          "November 2022",
          "November 2022",
          "November 2022",
          "November 2022",
          "November 2022",
          "November 2022",
          "November 2022",
          "November 2022",
          "November 2022",
          "November 2022",
          "November 2022",
          "November 2022",
          "November 2022",
          "November 2022",
          "November 2022",
          "November 2022",
          "November 2022",
          "November 2022",
          "November 2022",
          "November 2022",
          "November 2022",
          "November 2022",
          "November 2022",
          "November 2022",
          "November 2022",
          "November 2022",
          "November 2022",
          "November 2022",
          "November 2022",
          "November 2022",
          "November 2022",
          "November 2022",
          "November 2022",
          "November 2022",
          "November 2022",
          "November 2022",
          "November 2022",
          "November 2022",
          "November 2022"
         ],
         "x0": " ",
         "xaxis": "x",
         "y": [
          -0.085,
          0.055,
          -0.043,
          0.296,
          0.188,
          -0.366,
          -0.184,
          -0.472,
          -0.139,
          0.249,
          0.301,
          -0.386,
          0.057,
          0.168,
          0.307,
          0.734,
          -0.09,
          -0.542,
          0.004,
          0.448,
          -0.533,
          -0.14,
          -0.113,
          0.114,
          -0.079,
          -0.326,
          -0.288,
          0.226,
          0.201,
          -0.188,
          0.337,
          -0.214,
          0.213,
          -0.396,
          0.497,
          -0.673,
          0.401,
          -0.168,
          -0.487,
          -0.131,
          -0.055,
          0.293,
          0.504,
          -0.597,
          -0.387,
          0.545,
          -0.196,
          -0.469,
          0.273,
          -0.27,
          0.034,
          -0.14,
          0.196,
          -0.153,
          -0.371,
          0.093,
          0.597,
          -0.341,
          -0.033,
          0.055,
          0.742,
          0.046,
          -0.014,
          0.007,
          0.513,
          -0.219,
          0.259,
          0.057,
          -0.299,
          -0.34,
          0.159,
          -0.323,
          0.021,
          0.227,
          -0.168,
          0.106,
          0.147,
          -0.274,
          0.166,
          0.552,
          0.017,
          -0.368,
          0.092,
          0.094
         ],
         "y0": " ",
         "yaxis": "y"
        }
       ],
       "layout": {
        "boxmode": "overlay",
        "legend": {
         "title": {
          "text": "month"
         },
         "tracegroupgap": 0
        },
        "template": {
         "data": {
          "bar": [
           {
            "error_x": {
             "color": "#2a3f5f"
            },
            "error_y": {
             "color": "#2a3f5f"
            },
            "marker": {
             "line": {
              "color": "#E5ECF6",
              "width": 0.5
             },
             "pattern": {
              "fillmode": "overlay",
              "size": 10,
              "solidity": 0.2
             }
            },
            "type": "bar"
           }
          ],
          "barpolar": [
           {
            "marker": {
             "line": {
              "color": "#E5ECF6",
              "width": 0.5
             },
             "pattern": {
              "fillmode": "overlay",
              "size": 10,
              "solidity": 0.2
             }
            },
            "type": "barpolar"
           }
          ],
          "carpet": [
           {
            "aaxis": {
             "endlinecolor": "#2a3f5f",
             "gridcolor": "white",
             "linecolor": "white",
             "minorgridcolor": "white",
             "startlinecolor": "#2a3f5f"
            },
            "baxis": {
             "endlinecolor": "#2a3f5f",
             "gridcolor": "white",
             "linecolor": "white",
             "minorgridcolor": "white",
             "startlinecolor": "#2a3f5f"
            },
            "type": "carpet"
           }
          ],
          "choropleth": [
           {
            "colorbar": {
             "outlinewidth": 0,
             "ticks": ""
            },
            "type": "choropleth"
           }
          ],
          "contour": [
           {
            "colorbar": {
             "outlinewidth": 0,
             "ticks": ""
            },
            "colorscale": [
             [
              0,
              "#0d0887"
             ],
             [
              0.1111111111111111,
              "#46039f"
             ],
             [
              0.2222222222222222,
              "#7201a8"
             ],
             [
              0.3333333333333333,
              "#9c179e"
             ],
             [
              0.4444444444444444,
              "#bd3786"
             ],
             [
              0.5555555555555556,
              "#d8576b"
             ],
             [
              0.6666666666666666,
              "#ed7953"
             ],
             [
              0.7777777777777778,
              "#fb9f3a"
             ],
             [
              0.8888888888888888,
              "#fdca26"
             ],
             [
              1,
              "#f0f921"
             ]
            ],
            "type": "contour"
           }
          ],
          "contourcarpet": [
           {
            "colorbar": {
             "outlinewidth": 0,
             "ticks": ""
            },
            "type": "contourcarpet"
           }
          ],
          "heatmap": [
           {
            "colorbar": {
             "outlinewidth": 0,
             "ticks": ""
            },
            "colorscale": [
             [
              0,
              "#0d0887"
             ],
             [
              0.1111111111111111,
              "#46039f"
             ],
             [
              0.2222222222222222,
              "#7201a8"
             ],
             [
              0.3333333333333333,
              "#9c179e"
             ],
             [
              0.4444444444444444,
              "#bd3786"
             ],
             [
              0.5555555555555556,
              "#d8576b"
             ],
             [
              0.6666666666666666,
              "#ed7953"
             ],
             [
              0.7777777777777778,
              "#fb9f3a"
             ],
             [
              0.8888888888888888,
              "#fdca26"
             ],
             [
              1,
              "#f0f921"
             ]
            ],
            "type": "heatmap"
           }
          ],
          "heatmapgl": [
           {
            "colorbar": {
             "outlinewidth": 0,
             "ticks": ""
            },
            "colorscale": [
             [
              0,
              "#0d0887"
             ],
             [
              0.1111111111111111,
              "#46039f"
             ],
             [
              0.2222222222222222,
              "#7201a8"
             ],
             [
              0.3333333333333333,
              "#9c179e"
             ],
             [
              0.4444444444444444,
              "#bd3786"
             ],
             [
              0.5555555555555556,
              "#d8576b"
             ],
             [
              0.6666666666666666,
              "#ed7953"
             ],
             [
              0.7777777777777778,
              "#fb9f3a"
             ],
             [
              0.8888888888888888,
              "#fdca26"
             ],
             [
              1,
              "#f0f921"
             ]
            ],
            "type": "heatmapgl"
           }
          ],
          "histogram": [
           {
            "marker": {
             "pattern": {
              "fillmode": "overlay",
              "size": 10,
              "solidity": 0.2
             }
            },
            "type": "histogram"
           }
          ],
          "histogram2d": [
           {
            "colorbar": {
             "outlinewidth": 0,
             "ticks": ""
            },
            "colorscale": [
             [
              0,
              "#0d0887"
             ],
             [
              0.1111111111111111,
              "#46039f"
             ],
             [
              0.2222222222222222,
              "#7201a8"
             ],
             [
              0.3333333333333333,
              "#9c179e"
             ],
             [
              0.4444444444444444,
              "#bd3786"
             ],
             [
              0.5555555555555556,
              "#d8576b"
             ],
             [
              0.6666666666666666,
              "#ed7953"
             ],
             [
              0.7777777777777778,
              "#fb9f3a"
             ],
             [
              0.8888888888888888,
              "#fdca26"
             ],
             [
              1,
              "#f0f921"
             ]
            ],
            "type": "histogram2d"
           }
          ],
          "histogram2dcontour": [
           {
            "colorbar": {
             "outlinewidth": 0,
             "ticks": ""
            },
            "colorscale": [
             [
              0,
              "#0d0887"
             ],
             [
              0.1111111111111111,
              "#46039f"
             ],
             [
              0.2222222222222222,
              "#7201a8"
             ],
             [
              0.3333333333333333,
              "#9c179e"
             ],
             [
              0.4444444444444444,
              "#bd3786"
             ],
             [
              0.5555555555555556,
              "#d8576b"
             ],
             [
              0.6666666666666666,
              "#ed7953"
             ],
             [
              0.7777777777777778,
              "#fb9f3a"
             ],
             [
              0.8888888888888888,
              "#fdca26"
             ],
             [
              1,
              "#f0f921"
             ]
            ],
            "type": "histogram2dcontour"
           }
          ],
          "mesh3d": [
           {
            "colorbar": {
             "outlinewidth": 0,
             "ticks": ""
            },
            "type": "mesh3d"
           }
          ],
          "parcoords": [
           {
            "line": {
             "colorbar": {
              "outlinewidth": 0,
              "ticks": ""
             }
            },
            "type": "parcoords"
           }
          ],
          "pie": [
           {
            "automargin": true,
            "type": "pie"
           }
          ],
          "scatter": [
           {
            "fillpattern": {
             "fillmode": "overlay",
             "size": 10,
             "solidity": 0.2
            },
            "type": "scatter"
           }
          ],
          "scatter3d": [
           {
            "line": {
             "colorbar": {
              "outlinewidth": 0,
              "ticks": ""
             }
            },
            "marker": {
             "colorbar": {
              "outlinewidth": 0,
              "ticks": ""
             }
            },
            "type": "scatter3d"
           }
          ],
          "scattercarpet": [
           {
            "marker": {
             "colorbar": {
              "outlinewidth": 0,
              "ticks": ""
             }
            },
            "type": "scattercarpet"
           }
          ],
          "scattergeo": [
           {
            "marker": {
             "colorbar": {
              "outlinewidth": 0,
              "ticks": ""
             }
            },
            "type": "scattergeo"
           }
          ],
          "scattergl": [
           {
            "marker": {
             "colorbar": {
              "outlinewidth": 0,
              "ticks": ""
             }
            },
            "type": "scattergl"
           }
          ],
          "scattermapbox": [
           {
            "marker": {
             "colorbar": {
              "outlinewidth": 0,
              "ticks": ""
             }
            },
            "type": "scattermapbox"
           }
          ],
          "scatterpolar": [
           {
            "marker": {
             "colorbar": {
              "outlinewidth": 0,
              "ticks": ""
             }
            },
            "type": "scatterpolar"
           }
          ],
          "scatterpolargl": [
           {
            "marker": {
             "colorbar": {
              "outlinewidth": 0,
              "ticks": ""
             }
            },
            "type": "scatterpolargl"
           }
          ],
          "scatterternary": [
           {
            "marker": {
             "colorbar": {
              "outlinewidth": 0,
              "ticks": ""
             }
            },
            "type": "scatterternary"
           }
          ],
          "surface": [
           {
            "colorbar": {
             "outlinewidth": 0,
             "ticks": ""
            },
            "colorscale": [
             [
              0,
              "#0d0887"
             ],
             [
              0.1111111111111111,
              "#46039f"
             ],
             [
              0.2222222222222222,
              "#7201a8"
             ],
             [
              0.3333333333333333,
              "#9c179e"
             ],
             [
              0.4444444444444444,
              "#bd3786"
             ],
             [
              0.5555555555555556,
              "#d8576b"
             ],
             [
              0.6666666666666666,
              "#ed7953"
             ],
             [
              0.7777777777777778,
              "#fb9f3a"
             ],
             [
              0.8888888888888888,
              "#fdca26"
             ],
             [
              1,
              "#f0f921"
             ]
            ],
            "type": "surface"
           }
          ],
          "table": [
           {
            "cells": {
             "fill": {
              "color": "#EBF0F8"
             },
             "line": {
              "color": "white"
             }
            },
            "header": {
             "fill": {
              "color": "#C8D4E3"
             },
             "line": {
              "color": "white"
             }
            },
            "type": "table"
           }
          ]
         },
         "layout": {
          "annotationdefaults": {
           "arrowcolor": "#2a3f5f",
           "arrowhead": 0,
           "arrowwidth": 1
          },
          "autotypenumbers": "strict",
          "coloraxis": {
           "colorbar": {
            "outlinewidth": 0,
            "ticks": ""
           }
          },
          "colorscale": {
           "diverging": [
            [
             0,
             "#8e0152"
            ],
            [
             0.1,
             "#c51b7d"
            ],
            [
             0.2,
             "#de77ae"
            ],
            [
             0.3,
             "#f1b6da"
            ],
            [
             0.4,
             "#fde0ef"
            ],
            [
             0.5,
             "#f7f7f7"
            ],
            [
             0.6,
             "#e6f5d0"
            ],
            [
             0.7,
             "#b8e186"
            ],
            [
             0.8,
             "#7fbc41"
            ],
            [
             0.9,
             "#4d9221"
            ],
            [
             1,
             "#276419"
            ]
           ],
           "sequential": [
            [
             0,
             "#0d0887"
            ],
            [
             0.1111111111111111,
             "#46039f"
            ],
            [
             0.2222222222222222,
             "#7201a8"
            ],
            [
             0.3333333333333333,
             "#9c179e"
            ],
            [
             0.4444444444444444,
             "#bd3786"
            ],
            [
             0.5555555555555556,
             "#d8576b"
            ],
            [
             0.6666666666666666,
             "#ed7953"
            ],
            [
             0.7777777777777778,
             "#fb9f3a"
            ],
            [
             0.8888888888888888,
             "#fdca26"
            ],
            [
             1,
             "#f0f921"
            ]
           ],
           "sequentialminus": [
            [
             0,
             "#0d0887"
            ],
            [
             0.1111111111111111,
             "#46039f"
            ],
            [
             0.2222222222222222,
             "#7201a8"
            ],
            [
             0.3333333333333333,
             "#9c179e"
            ],
            [
             0.4444444444444444,
             "#bd3786"
            ],
            [
             0.5555555555555556,
             "#d8576b"
            ],
            [
             0.6666666666666666,
             "#ed7953"
            ],
            [
             0.7777777777777778,
             "#fb9f3a"
            ],
            [
             0.8888888888888888,
             "#fdca26"
            ],
            [
             1,
             "#f0f921"
            ]
           ]
          },
          "colorway": [
           "#636efa",
           "#EF553B",
           "#00cc96",
           "#ab63fa",
           "#FFA15A",
           "#19d3f3",
           "#FF6692",
           "#B6E880",
           "#FF97FF",
           "#FECB52"
          ],
          "font": {
           "color": "#2a3f5f"
          },
          "geo": {
           "bgcolor": "white",
           "lakecolor": "white",
           "landcolor": "#E5ECF6",
           "showlakes": true,
           "showland": true,
           "subunitcolor": "white"
          },
          "hoverlabel": {
           "align": "left"
          },
          "hovermode": "closest",
          "mapbox": {
           "style": "light"
          },
          "paper_bgcolor": "white",
          "plot_bgcolor": "#E5ECF6",
          "polar": {
           "angularaxis": {
            "gridcolor": "white",
            "linecolor": "white",
            "ticks": ""
           },
           "bgcolor": "#E5ECF6",
           "radialaxis": {
            "gridcolor": "white",
            "linecolor": "white",
            "ticks": ""
           }
          },
          "scene": {
           "xaxis": {
            "backgroundcolor": "#E5ECF6",
            "gridcolor": "white",
            "gridwidth": 2,
            "linecolor": "white",
            "showbackground": true,
            "ticks": "",
            "zerolinecolor": "white"
           },
           "yaxis": {
            "backgroundcolor": "#E5ECF6",
            "gridcolor": "white",
            "gridwidth": 2,
            "linecolor": "white",
            "showbackground": true,
            "ticks": "",
            "zerolinecolor": "white"
           },
           "zaxis": {
            "backgroundcolor": "#E5ECF6",
            "gridcolor": "white",
            "gridwidth": 2,
            "linecolor": "white",
            "showbackground": true,
            "ticks": "",
            "zerolinecolor": "white"
           }
          },
          "shapedefaults": {
           "line": {
            "color": "#2a3f5f"
           }
          },
          "ternary": {
           "aaxis": {
            "gridcolor": "white",
            "linecolor": "white",
            "ticks": ""
           },
           "baxis": {
            "gridcolor": "white",
            "linecolor": "white",
            "ticks": ""
           },
           "bgcolor": "#E5ECF6",
           "caxis": {
            "gridcolor": "white",
            "linecolor": "white",
            "ticks": ""
           }
          },
          "title": {
           "x": 0.05
          },
          "xaxis": {
           "automargin": true,
           "gridcolor": "white",
           "linecolor": "white",
           "ticks": "",
           "title": {
            "standoff": 15
           },
           "zerolinecolor": "white",
           "zerolinewidth": 2
          },
          "yaxis": {
           "automargin": true,
           "gridcolor": "white",
           "linecolor": "white",
           "ticks": "",
           "title": {
            "standoff": 15
           },
           "zerolinecolor": "white",
           "zerolinewidth": 2
          }
         }
        },
        "title": {
         "text": "Box Plot of the Sentiments for News Headlines in United Kingdom from November 2022 to March 2023"
        },
        "xaxis": {
         "anchor": "y",
         "categoryarray": [
          "November 2022",
          "December 2022",
          "January 2023",
          "February 2023",
          "March 2023"
         ],
         "categoryorder": "array",
         "domain": [
          0,
          1
         ],
         "title": {
          "text": "month"
         }
        },
        "yaxis": {
         "anchor": "x",
         "domain": [
          0,
          1
         ],
         "title": {
          "text": "sentiment"
         }
        }
       }
      },
      "text/html": [
       "<div>                            <div id=\"c1b77db7-c2f4-41f5-bbd1-fe708c374e1e\" class=\"plotly-graph-div\" style=\"height:525px; width:100%;\"></div>            <script type=\"text/javascript\">                require([\"plotly\"], function(Plotly) {                    window.PLOTLYENV=window.PLOTLYENV || {};                                    if (document.getElementById(\"c1b77db7-c2f4-41f5-bbd1-fe708c374e1e\")) {                    Plotly.newPlot(                        \"c1b77db7-c2f4-41f5-bbd1-fe708c374e1e\",                        [{\"alignmentgroup\":\"True\",\"hovertemplate\":\"month=%{x}<br>sentiment=%{y}<extra></extra>\",\"legendgroup\":\"January 2023\",\"marker\":{\"color\":\"#A7B8F8\"},\"name\":\"January 2023\",\"notched\":false,\"offsetgroup\":\"January 2023\",\"orientation\":\"v\",\"showlegend\":true,\"x\":[\"January 2023\",\"January 2023\",\"January 2023\",\"January 2023\",\"January 2023\",\"January 2023\",\"January 2023\",\"January 2023\",\"January 2023\",\"January 2023\",\"January 2023\",\"January 2023\",\"January 2023\",\"January 2023\",\"January 2023\",\"January 2023\",\"January 2023\",\"January 2023\",\"January 2023\",\"January 2023\",\"January 2023\",\"January 2023\",\"January 2023\",\"January 2023\",\"January 2023\",\"January 2023\",\"January 2023\",\"January 2023\",\"January 2023\",\"January 2023\",\"January 2023\",\"January 2023\",\"January 2023\",\"January 2023\",\"January 2023\",\"January 2023\",\"January 2023\",\"January 2023\",\"January 2023\",\"January 2023\",\"January 2023\",\"January 2023\",\"January 2023\",\"January 2023\",\"January 2023\",\"January 2023\",\"January 2023\",\"January 2023\",\"January 2023\",\"January 2023\",\"January 2023\",\"January 2023\",\"January 2023\",\"January 2023\",\"January 2023\",\"January 2023\",\"January 2023\",\"January 2023\",\"January 2023\",\"January 2023\",\"January 2023\",\"January 2023\",\"January 2023\",\"January 2023\",\"January 2023\",\"January 2023\",\"January 2023\",\"January 2023\",\"January 2023\",\"January 2023\",\"January 2023\",\"January 2023\",\"January 2023\",\"January 2023\",\"January 2023\",\"January 2023\"],\"x0\":\" \",\"xaxis\":\"x\",\"y\":[0.341,-0.077,0.365,0.358,-0.127,0.271,-0.283,-0.102,-0.019,0.289,0.611,-0.09,0.067,-0.252,0.032,-0.21,-0.302,0.38,-0.348,-0.24,-0.118,0.111,-0.442,-0.248,0.331,-0.346,0.215,0.13,0.054,-0.289,-0.114,-0.533,-0.129,-0.036,0.046,-0.396,-0.258,0.67,0.165,0.011,0.671,-0.255,0.044,0.201,-0.393,0.648,-0.44,-0.05,-0.017,0.216,0.176,0.621,-0.245,0.07,0.053,0.172,-0.131,0.085,0.09,-0.152,-0.279,0.144,0.362,-0.403,-0.265,0.398,-0.369,-0.455,0.37,-0.143,-0.328,0.041,-0.201,0.24,0.237,-0.206],\"y0\":\" \",\"yaxis\":\"y\",\"type\":\"box\"},{\"alignmentgroup\":\"True\",\"hovertemplate\":\"month=%{x}<br>sentiment=%{y}<extra></extra>\",\"legendgroup\":\"December 2022\",\"marker\":{\"color\":\"#6073B1\"},\"name\":\"December 2022\",\"notched\":false,\"offsetgroup\":\"December 2022\",\"orientation\":\"v\",\"showlegend\":true,\"x\":[\"December 2022\",\"December 2022\",\"December 2022\",\"December 2022\",\"December 2022\",\"December 2022\",\"December 2022\",\"December 2022\",\"December 2022\",\"December 2022\",\"December 2022\",\"December 2022\",\"December 2022\",\"December 2022\",\"December 2022\",\"December 2022\",\"December 2022\",\"December 2022\",\"December 2022\",\"December 2022\",\"December 2022\",\"December 2022\",\"December 2022\",\"December 2022\",\"December 2022\",\"December 2022\",\"December 2022\",\"December 2022\",\"December 2022\",\"December 2022\",\"December 2022\",\"December 2022\",\"December 2022\",\"December 2022\",\"December 2022\",\"December 2022\",\"December 2022\",\"December 2022\",\"December 2022\",\"December 2022\",\"December 2022\",\"December 2022\",\"December 2022\",\"December 2022\",\"December 2022\",\"December 2022\",\"December 2022\",\"December 2022\",\"December 2022\",\"December 2022\",\"December 2022\",\"December 2022\",\"December 2022\",\"December 2022\",\"December 2022\",\"December 2022\",\"December 2022\",\"December 2022\",\"December 2022\",\"December 2022\",\"December 2022\",\"December 2022\",\"December 2022\",\"December 2022\",\"December 2022\",\"December 2022\",\"December 2022\",\"December 2022\",\"December 2022\",\"December 2022\",\"December 2022\",\"December 2022\",\"December 2022\",\"December 2022\",\"December 2022\",\"December 2022\",\"December 2022\",\"December 2022\",\"December 2022\",\"December 2022\",\"December 2022\",\"December 2022\",\"December 2022\",\"December 2022\",\"December 2022\",\"December 2022\",\"December 2022\",\"December 2022\",\"December 2022\",\"December 2022\",\"December 2022\",\"December 2022\",\"December 2022\",\"December 2022\",\"December 2022\",\"December 2022\",\"December 2022\",\"December 2022\",\"December 2022\",\"December 2022\",\"December 2022\",\"December 2022\",\"December 2022\",\"December 2022\",\"December 2022\",\"December 2022\",\"December 2022\",\"December 2022\",\"December 2022\",\"December 2022\",\"December 2022\",\"December 2022\",\"December 2022\",\"December 2022\",\"December 2022\",\"December 2022\",\"December 2022\",\"December 2022\"],\"x0\":\" \",\"xaxis\":\"x\",\"y\":[0.377,-0.137,0.381,0.128,0.014,0.246,-0.345,-0.012,-0.221,-0.215,-0.316,0.381,-0.301,0.356,-0.221,0.478,0.341,0.244,-0.045,0.14,-0.048,-0.06,0.103,0.341,-0.102,-0.301,-0.335,0.001,0.207,-0.307,0.137,0.055,-0.189,0.226,-0.058,-0.336,-0.621,0.207,-0.108,-0.122,0.158,-0.156,-0.215,-0.129,0.2,-0.104,-0.201,0.147,-0.12,0.038,-0.149,-0.244,0.168,-0.123,-0.301,0.062,0.64,-0.314,-0.197,-0.245,-0.3,0.042,-0.278,-0.088,-0.084,0.037,0.122,0.37,0.387,-0.157,-0.293,0.25,-0.165,-0.062,0.199,0.095,-0.117,-0.292,-0.186,-0.013,-0.096,-0.214,0.211,0.551,0.23,0.025,0.046,-0.311,-0.227,0.272,-0.084,0.52,-0.314,-0.204,-0.379,-0.169,0.032,-0.382,0.225,0.095,0.34,-0.287,-0.056,-0.292,0.228,0.094,-0.371,-0.142,0.014,-0.118,0.103,-0.065,0.074,0.018,-0.347,-0.231,0.166,0.448],\"y0\":\" \",\"yaxis\":\"y\",\"type\":\"box\"},{\"alignmentgroup\":\"True\",\"hovertemplate\":\"month=%{x}<br>sentiment=%{y}<extra></extra>\",\"legendgroup\":\"February 2023\",\"marker\":{\"color\":\"#052955\"},\"name\":\"February 2023\",\"notched\":false,\"offsetgroup\":\"February 2023\",\"orientation\":\"v\",\"showlegend\":true,\"x\":[\"February 2023\",\"February 2023\",\"February 2023\",\"February 2023\",\"February 2023\",\"February 2023\",\"February 2023\",\"February 2023\",\"February 2023\",\"February 2023\",\"February 2023\",\"February 2023\",\"February 2023\",\"February 2023\",\"February 2023\",\"February 2023\",\"February 2023\",\"February 2023\",\"February 2023\",\"February 2023\",\"February 2023\",\"February 2023\",\"February 2023\",\"February 2023\",\"February 2023\",\"February 2023\",\"February 2023\",\"February 2023\",\"February 2023\",\"February 2023\",\"February 2023\",\"February 2023\",\"February 2023\",\"February 2023\",\"February 2023\",\"February 2023\",\"February 2023\",\"February 2023\",\"February 2023\",\"February 2023\",\"February 2023\",\"February 2023\",\"February 2023\",\"February 2023\",\"February 2023\",\"February 2023\",\"February 2023\",\"February 2023\"],\"x0\":\" \",\"xaxis\":\"x\",\"y\":[-0.146,-0.364,0.189,-0.134,-0.065,0.428,-0.236,0.302,0.175,-0.399,-0.195,-0.267,0.044,0.213,-0.22,-0.09,-0.14,0.177,0.231,-0.051,0.162,-0.213,-0.327,-0.367,0.293,0.16,0.447,-0.372,-0.282,-0.013,0.001,0.159,-0.413,0.189,0.473,0.025,-0.063,0.3,0.424,-0.421,-0.106,0.574,0.348,-0.121,-0.093,0.044,0.288,-0.313],\"y0\":\" \",\"yaxis\":\"y\",\"type\":\"box\"},{\"alignmentgroup\":\"True\",\"hovertemplate\":\"month=%{x}<br>sentiment=%{y}<extra></extra>\",\"legendgroup\":\"March 2023\",\"marker\":{\"color\":\"#2E2B21\"},\"name\":\"March 2023\",\"notched\":false,\"offsetgroup\":\"March 2023\",\"orientation\":\"v\",\"showlegend\":true,\"x\":[\"March 2023\",\"March 2023\",\"March 2023\",\"March 2023\",\"March 2023\",\"March 2023\",\"March 2023\",\"March 2023\",\"March 2023\",\"March 2023\",\"March 2023\",\"March 2023\",\"March 2023\",\"March 2023\",\"March 2023\",\"March 2023\",\"March 2023\",\"March 2023\",\"March 2023\",\"March 2023\",\"March 2023\",\"March 2023\",\"March 2023\",\"March 2023\",\"March 2023\",\"March 2023\",\"March 2023\",\"March 2023\",\"March 2023\",\"March 2023\",\"March 2023\",\"March 2023\",\"March 2023\",\"March 2023\",\"March 2023\",\"March 2023\",\"March 2023\",\"March 2023\",\"March 2023\",\"March 2023\",\"March 2023\",\"March 2023\",\"March 2023\",\"March 2023\",\"March 2023\",\"March 2023\",\"March 2023\",\"March 2023\",\"March 2023\",\"March 2023\",\"March 2023\",\"March 2023\",\"March 2023\",\"March 2023\",\"March 2023\",\"March 2023\",\"March 2023\",\"March 2023\",\"March 2023\",\"March 2023\",\"March 2023\",\"March 2023\",\"March 2023\",\"March 2023\",\"March 2023\",\"March 2023\",\"March 2023\",\"March 2023\",\"March 2023\",\"March 2023\",\"March 2023\",\"March 2023\",\"March 2023\",\"March 2023\",\"March 2023\",\"March 2023\",\"March 2023\",\"March 2023\",\"March 2023\",\"March 2023\",\"March 2023\",\"March 2023\",\"March 2023\",\"March 2023\",\"March 2023\",\"March 2023\",\"March 2023\",\"March 2023\",\"March 2023\",\"March 2023\",\"March 2023\",\"March 2023\",\"March 2023\",\"March 2023\",\"March 2023\",\"March 2023\",\"March 2023\",\"March 2023\",\"March 2023\",\"March 2023\"],\"x0\":\" \",\"xaxis\":\"x\",\"y\":[-0.216,-0.213,-0.32,0.031,-0.506,0.355,-0.044,0.457,-0.033,-0.036,0.454,-0.109,0.598,0.493,-0.469,-0.024,0.385,-0.365,-0.326,-0.108,0.049,0.036,0.008,0.081,0.212,-0.477,0.416,0.059,-0.454,-0.273,0.162,0.005,-0.057,-0.029,-0.177,0.35,-0.064,-0.082,-0.093,-0.204,0.119,0.065,0.0,0.113,-0.444,0.128,-0.336,0.112,-0.019,-0.085,0.441,0.879,0.172,0.763,0.044,0.14,-0.233,0.611,-0.488,0.211,-0.137,-0.106,-0.259,0.643,0.369,-0.774,0.628,0.113,-0.118,-0.239,0.172,0.233,-0.003,-0.386,-0.097,0.247,-0.37,-0.136,0.482,0.249,-0.106,0.469,-0.196,-0.376,0.048,-0.076,0.186,0.043,-0.358,-0.428,-0.5,-0.088,-0.094,-0.159,-0.573,0.149,-0.363,-0.413,-0.031,0.574],\"y0\":\" \",\"yaxis\":\"y\",\"type\":\"box\"},{\"alignmentgroup\":\"True\",\"hovertemplate\":\"month=%{x}<br>sentiment=%{y}<extra></extra>\",\"legendgroup\":\"November 2022\",\"marker\":{\"color\":\"#AE9C45\"},\"name\":\"November 2022\",\"notched\":false,\"offsetgroup\":\"November 2022\",\"orientation\":\"v\",\"showlegend\":true,\"x\":[\"November 2022\",\"November 2022\",\"November 2022\",\"November 2022\",\"November 2022\",\"November 2022\",\"November 2022\",\"November 2022\",\"November 2022\",\"November 2022\",\"November 2022\",\"November 2022\",\"November 2022\",\"November 2022\",\"November 2022\",\"November 2022\",\"November 2022\",\"November 2022\",\"November 2022\",\"November 2022\",\"November 2022\",\"November 2022\",\"November 2022\",\"November 2022\",\"November 2022\",\"November 2022\",\"November 2022\",\"November 2022\",\"November 2022\",\"November 2022\",\"November 2022\",\"November 2022\",\"November 2022\",\"November 2022\",\"November 2022\",\"November 2022\",\"November 2022\",\"November 2022\",\"November 2022\",\"November 2022\",\"November 2022\",\"November 2022\",\"November 2022\",\"November 2022\",\"November 2022\",\"November 2022\",\"November 2022\",\"November 2022\",\"November 2022\",\"November 2022\",\"November 2022\",\"November 2022\",\"November 2022\",\"November 2022\",\"November 2022\",\"November 2022\",\"November 2022\",\"November 2022\",\"November 2022\",\"November 2022\",\"November 2022\",\"November 2022\",\"November 2022\",\"November 2022\",\"November 2022\",\"November 2022\",\"November 2022\",\"November 2022\",\"November 2022\",\"November 2022\",\"November 2022\",\"November 2022\",\"November 2022\",\"November 2022\",\"November 2022\",\"November 2022\",\"November 2022\",\"November 2022\",\"November 2022\",\"November 2022\",\"November 2022\",\"November 2022\",\"November 2022\",\"November 2022\"],\"x0\":\" \",\"xaxis\":\"x\",\"y\":[-0.085,0.055,-0.043,0.296,0.188,-0.366,-0.184,-0.472,-0.139,0.249,0.301,-0.386,0.057,0.168,0.307,0.734,-0.09,-0.542,0.004,0.448,-0.533,-0.14,-0.113,0.114,-0.079,-0.326,-0.288,0.226,0.201,-0.188,0.337,-0.214,0.213,-0.396,0.497,-0.673,0.401,-0.168,-0.487,-0.131,-0.055,0.293,0.504,-0.597,-0.387,0.545,-0.196,-0.469,0.273,-0.27,0.034,-0.14,0.196,-0.153,-0.371,0.093,0.597,-0.341,-0.033,0.055,0.742,0.046,-0.014,0.007,0.513,-0.219,0.259,0.057,-0.299,-0.34,0.159,-0.323,0.021,0.227,-0.168,0.106,0.147,-0.274,0.166,0.552,0.017,-0.368,0.092,0.094],\"y0\":\" \",\"yaxis\":\"y\",\"type\":\"box\"}],                        {\"template\":{\"data\":{\"histogram2dcontour\":[{\"type\":\"histogram2dcontour\",\"colorbar\":{\"outlinewidth\":0,\"ticks\":\"\"},\"colorscale\":[[0.0,\"#0d0887\"],[0.1111111111111111,\"#46039f\"],[0.2222222222222222,\"#7201a8\"],[0.3333333333333333,\"#9c179e\"],[0.4444444444444444,\"#bd3786\"],[0.5555555555555556,\"#d8576b\"],[0.6666666666666666,\"#ed7953\"],[0.7777777777777778,\"#fb9f3a\"],[0.8888888888888888,\"#fdca26\"],[1.0,\"#f0f921\"]]}],\"choropleth\":[{\"type\":\"choropleth\",\"colorbar\":{\"outlinewidth\":0,\"ticks\":\"\"}}],\"histogram2d\":[{\"type\":\"histogram2d\",\"colorbar\":{\"outlinewidth\":0,\"ticks\":\"\"},\"colorscale\":[[0.0,\"#0d0887\"],[0.1111111111111111,\"#46039f\"],[0.2222222222222222,\"#7201a8\"],[0.3333333333333333,\"#9c179e\"],[0.4444444444444444,\"#bd3786\"],[0.5555555555555556,\"#d8576b\"],[0.6666666666666666,\"#ed7953\"],[0.7777777777777778,\"#fb9f3a\"],[0.8888888888888888,\"#fdca26\"],[1.0,\"#f0f921\"]]}],\"heatmap\":[{\"type\":\"heatmap\",\"colorbar\":{\"outlinewidth\":0,\"ticks\":\"\"},\"colorscale\":[[0.0,\"#0d0887\"],[0.1111111111111111,\"#46039f\"],[0.2222222222222222,\"#7201a8\"],[0.3333333333333333,\"#9c179e\"],[0.4444444444444444,\"#bd3786\"],[0.5555555555555556,\"#d8576b\"],[0.6666666666666666,\"#ed7953\"],[0.7777777777777778,\"#fb9f3a\"],[0.8888888888888888,\"#fdca26\"],[1.0,\"#f0f921\"]]}],\"heatmapgl\":[{\"type\":\"heatmapgl\",\"colorbar\":{\"outlinewidth\":0,\"ticks\":\"\"},\"colorscale\":[[0.0,\"#0d0887\"],[0.1111111111111111,\"#46039f\"],[0.2222222222222222,\"#7201a8\"],[0.3333333333333333,\"#9c179e\"],[0.4444444444444444,\"#bd3786\"],[0.5555555555555556,\"#d8576b\"],[0.6666666666666666,\"#ed7953\"],[0.7777777777777778,\"#fb9f3a\"],[0.8888888888888888,\"#fdca26\"],[1.0,\"#f0f921\"]]}],\"contourcarpet\":[{\"type\":\"contourcarpet\",\"colorbar\":{\"outlinewidth\":0,\"ticks\":\"\"}}],\"contour\":[{\"type\":\"contour\",\"colorbar\":{\"outlinewidth\":0,\"ticks\":\"\"},\"colorscale\":[[0.0,\"#0d0887\"],[0.1111111111111111,\"#46039f\"],[0.2222222222222222,\"#7201a8\"],[0.3333333333333333,\"#9c179e\"],[0.4444444444444444,\"#bd3786\"],[0.5555555555555556,\"#d8576b\"],[0.6666666666666666,\"#ed7953\"],[0.7777777777777778,\"#fb9f3a\"],[0.8888888888888888,\"#fdca26\"],[1.0,\"#f0f921\"]]}],\"surface\":[{\"type\":\"surface\",\"colorbar\":{\"outlinewidth\":0,\"ticks\":\"\"},\"colorscale\":[[0.0,\"#0d0887\"],[0.1111111111111111,\"#46039f\"],[0.2222222222222222,\"#7201a8\"],[0.3333333333333333,\"#9c179e\"],[0.4444444444444444,\"#bd3786\"],[0.5555555555555556,\"#d8576b\"],[0.6666666666666666,\"#ed7953\"],[0.7777777777777778,\"#fb9f3a\"],[0.8888888888888888,\"#fdca26\"],[1.0,\"#f0f921\"]]}],\"mesh3d\":[{\"type\":\"mesh3d\",\"colorbar\":{\"outlinewidth\":0,\"ticks\":\"\"}}],\"scatter\":[{\"fillpattern\":{\"fillmode\":\"overlay\",\"size\":10,\"solidity\":0.2},\"type\":\"scatter\"}],\"parcoords\":[{\"type\":\"parcoords\",\"line\":{\"colorbar\":{\"outlinewidth\":0,\"ticks\":\"\"}}}],\"scatterpolargl\":[{\"type\":\"scatterpolargl\",\"marker\":{\"colorbar\":{\"outlinewidth\":0,\"ticks\":\"\"}}}],\"bar\":[{\"error_x\":{\"color\":\"#2a3f5f\"},\"error_y\":{\"color\":\"#2a3f5f\"},\"marker\":{\"line\":{\"color\":\"#E5ECF6\",\"width\":0.5},\"pattern\":{\"fillmode\":\"overlay\",\"size\":10,\"solidity\":0.2}},\"type\":\"bar\"}],\"scattergeo\":[{\"type\":\"scattergeo\",\"marker\":{\"colorbar\":{\"outlinewidth\":0,\"ticks\":\"\"}}}],\"scatterpolar\":[{\"type\":\"scatterpolar\",\"marker\":{\"colorbar\":{\"outlinewidth\":0,\"ticks\":\"\"}}}],\"histogram\":[{\"marker\":{\"pattern\":{\"fillmode\":\"overlay\",\"size\":10,\"solidity\":0.2}},\"type\":\"histogram\"}],\"scattergl\":[{\"type\":\"scattergl\",\"marker\":{\"colorbar\":{\"outlinewidth\":0,\"ticks\":\"\"}}}],\"scatter3d\":[{\"type\":\"scatter3d\",\"line\":{\"colorbar\":{\"outlinewidth\":0,\"ticks\":\"\"}},\"marker\":{\"colorbar\":{\"outlinewidth\":0,\"ticks\":\"\"}}}],\"scattermapbox\":[{\"type\":\"scattermapbox\",\"marker\":{\"colorbar\":{\"outlinewidth\":0,\"ticks\":\"\"}}}],\"scatterternary\":[{\"type\":\"scatterternary\",\"marker\":{\"colorbar\":{\"outlinewidth\":0,\"ticks\":\"\"}}}],\"scattercarpet\":[{\"type\":\"scattercarpet\",\"marker\":{\"colorbar\":{\"outlinewidth\":0,\"ticks\":\"\"}}}],\"carpet\":[{\"aaxis\":{\"endlinecolor\":\"#2a3f5f\",\"gridcolor\":\"white\",\"linecolor\":\"white\",\"minorgridcolor\":\"white\",\"startlinecolor\":\"#2a3f5f\"},\"baxis\":{\"endlinecolor\":\"#2a3f5f\",\"gridcolor\":\"white\",\"linecolor\":\"white\",\"minorgridcolor\":\"white\",\"startlinecolor\":\"#2a3f5f\"},\"type\":\"carpet\"}],\"table\":[{\"cells\":{\"fill\":{\"color\":\"#EBF0F8\"},\"line\":{\"color\":\"white\"}},\"header\":{\"fill\":{\"color\":\"#C8D4E3\"},\"line\":{\"color\":\"white\"}},\"type\":\"table\"}],\"barpolar\":[{\"marker\":{\"line\":{\"color\":\"#E5ECF6\",\"width\":0.5},\"pattern\":{\"fillmode\":\"overlay\",\"size\":10,\"solidity\":0.2}},\"type\":\"barpolar\"}],\"pie\":[{\"automargin\":true,\"type\":\"pie\"}]},\"layout\":{\"autotypenumbers\":\"strict\",\"colorway\":[\"#636efa\",\"#EF553B\",\"#00cc96\",\"#ab63fa\",\"#FFA15A\",\"#19d3f3\",\"#FF6692\",\"#B6E880\",\"#FF97FF\",\"#FECB52\"],\"font\":{\"color\":\"#2a3f5f\"},\"hovermode\":\"closest\",\"hoverlabel\":{\"align\":\"left\"},\"paper_bgcolor\":\"white\",\"plot_bgcolor\":\"#E5ECF6\",\"polar\":{\"bgcolor\":\"#E5ECF6\",\"angularaxis\":{\"gridcolor\":\"white\",\"linecolor\":\"white\",\"ticks\":\"\"},\"radialaxis\":{\"gridcolor\":\"white\",\"linecolor\":\"white\",\"ticks\":\"\"}},\"ternary\":{\"bgcolor\":\"#E5ECF6\",\"aaxis\":{\"gridcolor\":\"white\",\"linecolor\":\"white\",\"ticks\":\"\"},\"baxis\":{\"gridcolor\":\"white\",\"linecolor\":\"white\",\"ticks\":\"\"},\"caxis\":{\"gridcolor\":\"white\",\"linecolor\":\"white\",\"ticks\":\"\"}},\"coloraxis\":{\"colorbar\":{\"outlinewidth\":0,\"ticks\":\"\"}},\"colorscale\":{\"sequential\":[[0.0,\"#0d0887\"],[0.1111111111111111,\"#46039f\"],[0.2222222222222222,\"#7201a8\"],[0.3333333333333333,\"#9c179e\"],[0.4444444444444444,\"#bd3786\"],[0.5555555555555556,\"#d8576b\"],[0.6666666666666666,\"#ed7953\"],[0.7777777777777778,\"#fb9f3a\"],[0.8888888888888888,\"#fdca26\"],[1.0,\"#f0f921\"]],\"sequentialminus\":[[0.0,\"#0d0887\"],[0.1111111111111111,\"#46039f\"],[0.2222222222222222,\"#7201a8\"],[0.3333333333333333,\"#9c179e\"],[0.4444444444444444,\"#bd3786\"],[0.5555555555555556,\"#d8576b\"],[0.6666666666666666,\"#ed7953\"],[0.7777777777777778,\"#fb9f3a\"],[0.8888888888888888,\"#fdca26\"],[1.0,\"#f0f921\"]],\"diverging\":[[0,\"#8e0152\"],[0.1,\"#c51b7d\"],[0.2,\"#de77ae\"],[0.3,\"#f1b6da\"],[0.4,\"#fde0ef\"],[0.5,\"#f7f7f7\"],[0.6,\"#e6f5d0\"],[0.7,\"#b8e186\"],[0.8,\"#7fbc41\"],[0.9,\"#4d9221\"],[1,\"#276419\"]]},\"xaxis\":{\"gridcolor\":\"white\",\"linecolor\":\"white\",\"ticks\":\"\",\"title\":{\"standoff\":15},\"zerolinecolor\":\"white\",\"automargin\":true,\"zerolinewidth\":2},\"yaxis\":{\"gridcolor\":\"white\",\"linecolor\":\"white\",\"ticks\":\"\",\"title\":{\"standoff\":15},\"zerolinecolor\":\"white\",\"automargin\":true,\"zerolinewidth\":2},\"scene\":{\"xaxis\":{\"backgroundcolor\":\"#E5ECF6\",\"gridcolor\":\"white\",\"linecolor\":\"white\",\"showbackground\":true,\"ticks\":\"\",\"zerolinecolor\":\"white\",\"gridwidth\":2},\"yaxis\":{\"backgroundcolor\":\"#E5ECF6\",\"gridcolor\":\"white\",\"linecolor\":\"white\",\"showbackground\":true,\"ticks\":\"\",\"zerolinecolor\":\"white\",\"gridwidth\":2},\"zaxis\":{\"backgroundcolor\":\"#E5ECF6\",\"gridcolor\":\"white\",\"linecolor\":\"white\",\"showbackground\":true,\"ticks\":\"\",\"zerolinecolor\":\"white\",\"gridwidth\":2}},\"shapedefaults\":{\"line\":{\"color\":\"#2a3f5f\"}},\"annotationdefaults\":{\"arrowcolor\":\"#2a3f5f\",\"arrowhead\":0,\"arrowwidth\":1},\"geo\":{\"bgcolor\":\"white\",\"landcolor\":\"#E5ECF6\",\"subunitcolor\":\"white\",\"showland\":true,\"showlakes\":true,\"lakecolor\":\"white\"},\"title\":{\"x\":0.05},\"mapbox\":{\"style\":\"light\"}}},\"xaxis\":{\"anchor\":\"y\",\"domain\":[0.0,1.0],\"title\":{\"text\":\"month\"},\"categoryorder\":\"array\",\"categoryarray\":[\"November 2022\",\"December 2022\",\"January 2023\",\"February 2023\",\"March 2023\"]},\"yaxis\":{\"anchor\":\"x\",\"domain\":[0.0,1.0],\"title\":{\"text\":\"sentiment\"}},\"legend\":{\"title\":{\"text\":\"month\"},\"tracegroupgap\":0},\"title\":{\"text\":\"Box Plot of the Sentiments for News Headlines in United Kingdom from November 2022 to March 2023\"},\"boxmode\":\"overlay\"},                        {\"responsive\": true}                    ).then(function(){\n",
       "                            \n",
       "var gd = document.getElementById('c1b77db7-c2f4-41f5-bbd1-fe708c374e1e');\n",
       "var x = new MutationObserver(function (mutations, observer) {{\n",
       "        var display = window.getComputedStyle(gd).display;\n",
       "        if (!display || display === 'none') {{\n",
       "            console.log([gd, 'removed!']);\n",
       "            Plotly.purge(gd);\n",
       "            observer.disconnect();\n",
       "        }}\n",
       "}});\n",
       "\n",
       "// Listen for the removal of the full notebook cells\n",
       "var notebookContainer = gd.closest('#notebook-container');\n",
       "if (notebookContainer) {{\n",
       "    x.observe(notebookContainer, {childList: true});\n",
       "}}\n",
       "\n",
       "// Listen for the clearing of the current output cell\n",
       "var outputEl = gd.closest('.output');\n",
       "if (outputEl) {{\n",
       "    x.observe(outputEl, {childList: true});\n",
       "}}\n",
       "\n",
       "                        })                };                });            </script>        </div>"
      ]
     },
     "metadata": {},
     "output_type": "display_data"
    }
   ],
   "source": [
    "# PROTANOPIA COLOR PALLETTE\n",
    "fig = px.box(\n",
    "    irelandNewsDF, \n",
    "    y=\"sentiment\", \n",
    "    x=\"month\", \n",
    "    color=\"month\",\n",
    "    title=\"Box Plot of the Sentiments for News Headlines in United Kingdom from November 2022 to March 2023\",\n",
    "    color_discrete_map={\n",
    "        \"November 2022\": \"#AE9C45\", \n",
    "        \"December 2022\": \"#6073B1\", \n",
    "        \"January 2023\": \"#A7B8F8\", \n",
    "        \"February 2023\": \"#052955\", \n",
    "        \"March 2023\": \"#2E2B21\"\n",
    "    }\n",
    ")\n",
    "fig.update_layout(xaxis={'categoryorder': 'array', 'categoryarray': [\"November 2022\", \"December 2022\", \"January 2023\", \"February 2023\", \"March 2023\",]})\n",
    "fig.show()"
   ]
  },
  {
   "cell_type": "markdown",
   "id": "7b78ac13",
   "metadata": {},
   "source": [
    "## Inferential Statistics and Hypothesis testing\n"
   ]
  },
  {
   "cell_type": "code",
   "execution_count": 68,
   "id": "7ef37c2b",
   "metadata": {
    "scrolled": true
   },
   "outputs": [
    {
     "data": {
      "text/html": [
       "<div>\n",
       "<style scoped>\n",
       "    .dataframe tbody tr th:only-of-type {\n",
       "        vertical-align: middle;\n",
       "    }\n",
       "\n",
       "    .dataframe tbody tr th {\n",
       "        vertical-align: top;\n",
       "    }\n",
       "\n",
       "    .dataframe thead th {\n",
       "        text-align: right;\n",
       "    }\n",
       "</style>\n",
       "<table border=\"1\" class=\"dataframe\">\n",
       "  <thead>\n",
       "    <tr style=\"text-align: right;\">\n",
       "      <th></th>\n",
       "      <th>month</th>\n",
       "      <th>mean_value</th>\n",
       "      <th>count</th>\n",
       "      <th>confidence_interval</th>\n",
       "    </tr>\n",
       "  </thead>\n",
       "  <tbody>\n",
       "    <tr>\n",
       "      <th>0</th>\n",
       "      <td>December 2022</td>\n",
       "      <td>-0.019085</td>\n",
       "      <td>118</td>\n",
       "      <td>(-0.06372473711687811, 0.025555245591454386)</td>\n",
       "    </tr>\n",
       "    <tr>\n",
       "      <th>1</th>\n",
       "      <td>February 2023</td>\n",
       "      <td>0.004896</td>\n",
       "      <td>48</td>\n",
       "      <td>(-0.07397868651394815, 0.08377035318061482)</td>\n",
       "    </tr>\n",
       "    <tr>\n",
       "      <th>2</th>\n",
       "      <td>January 2023</td>\n",
       "      <td>-0.000066</td>\n",
       "      <td>76</td>\n",
       "      <td>(-0.06788712866545676, 0.06775554971808834)</td>\n",
       "    </tr>\n",
       "    <tr>\n",
       "      <th>3</th>\n",
       "      <td>March 2023</td>\n",
       "      <td>-0.001160</td>\n",
       "      <td>100</td>\n",
       "      <td>(-0.0655385336175492, 0.06321853361754919)</td>\n",
       "    </tr>\n",
       "    <tr>\n",
       "      <th>4</th>\n",
       "      <td>November 2022</td>\n",
       "      <td>-0.005583</td>\n",
       "      <td>84</td>\n",
       "      <td>(-0.07448767450053856, 0.06332100783387187)</td>\n",
       "    </tr>\n",
       "  </tbody>\n",
       "</table>\n",
       "</div>"
      ],
      "text/plain": [
       "           month  mean_value  count  \\\n",
       "0  December 2022   -0.019085    118   \n",
       "1  February 2023    0.004896     48   \n",
       "2   January 2023   -0.000066     76   \n",
       "3     March 2023   -0.001160    100   \n",
       "4  November 2022   -0.005583     84   \n",
       "\n",
       "                            confidence_interval  \n",
       "0  (-0.06372473711687811, 0.025555245591454386)  \n",
       "1   (-0.07397868651394815, 0.08377035318061482)  \n",
       "2   (-0.06788712866545676, 0.06775554971808834)  \n",
       "3    (-0.0655385336175492, 0.06321853361754919)  \n",
       "4   (-0.07448767450053856, 0.06332100783387187)  "
      ]
     },
     "execution_count": 68,
     "metadata": {},
     "output_type": "execute_result"
    }
   ],
   "source": [
    "irelandNewsGroupedByMonth = irelandNewsDF.groupby(irelandNewsDF[\"month\"]).agg(\n",
    "    mean_value=(\"sentiment\", \"mean\"),\n",
    "    count=(\"sentiment\", \"count\"),\n",
    "    confidence_interval=(\"sentiment\", lambda x: stats.t.interval(0.95, len(x)-1, loc=np.mean(x), scale=stats.sem(x)))\n",
    ")\n",
    "irelandNewsGroupedByMonth.reset_index(inplace=True)\n",
    "irelandNewsGroupedByMonth"
   ]
  },
  {
   "cell_type": "code",
   "execution_count": 70,
   "id": "e81d6c81",
   "metadata": {},
   "outputs": [
    {
     "data": {
      "text/html": [
       "<div>\n",
       "<style scoped>\n",
       "    .dataframe tbody tr th:only-of-type {\n",
       "        vertical-align: middle;\n",
       "    }\n",
       "\n",
       "    .dataframe tbody tr th {\n",
       "        vertical-align: top;\n",
       "    }\n",
       "\n",
       "    .dataframe thead th {\n",
       "        text-align: right;\n",
       "    }\n",
       "</style>\n",
       "<table border=\"1\" class=\"dataframe\">\n",
       "  <thead>\n",
       "    <tr style=\"text-align: right;\">\n",
       "      <th></th>\n",
       "      <th>month</th>\n",
       "      <th>mean_value</th>\n",
       "      <th>count</th>\n",
       "      <th>confidence_interval</th>\n",
       "    </tr>\n",
       "  </thead>\n",
       "  <tbody>\n",
       "    <tr>\n",
       "      <th>0</th>\n",
       "      <td>December 2022</td>\n",
       "      <td>0.038705</td>\n",
       "      <td>183</td>\n",
       "      <td>(-0.0008677261339427797, 0.07827756219951654)</td>\n",
       "    </tr>\n",
       "    <tr>\n",
       "      <th>1</th>\n",
       "      <td>February 2023</td>\n",
       "      <td>-0.026508</td>\n",
       "      <td>183</td>\n",
       "      <td>(-0.07509871382168022, 0.02208232037905726)</td>\n",
       "    </tr>\n",
       "    <tr>\n",
       "      <th>2</th>\n",
       "      <td>January 2023</td>\n",
       "      <td>-0.015973</td>\n",
       "      <td>258</td>\n",
       "      <td>(-0.051361453956841, 0.01941571752273248)</td>\n",
       "    </tr>\n",
       "    <tr>\n",
       "      <th>3</th>\n",
       "      <td>March 2023</td>\n",
       "      <td>0.031914</td>\n",
       "      <td>233</td>\n",
       "      <td>(-0.004460377362249662, 0.06828870354250718)</td>\n",
       "    </tr>\n",
       "    <tr>\n",
       "      <th>4</th>\n",
       "      <td>November 2022</td>\n",
       "      <td>0.033562</td>\n",
       "      <td>235</td>\n",
       "      <td>(-0.005457010641221879, 0.07258041489654102)</td>\n",
       "    </tr>\n",
       "  </tbody>\n",
       "</table>\n",
       "</div>"
      ],
      "text/plain": [
       "           month  mean_value  count  \\\n",
       "0  December 2022    0.038705    183   \n",
       "1  February 2023   -0.026508    183   \n",
       "2   January 2023   -0.015973    258   \n",
       "3     March 2023    0.031914    233   \n",
       "4  November 2022    0.033562    235   \n",
       "\n",
       "                             confidence_interval  \n",
       "0  (-0.0008677261339427797, 0.07827756219951654)  \n",
       "1    (-0.07509871382168022, 0.02208232037905726)  \n",
       "2      (-0.051361453956841, 0.01941571752273248)  \n",
       "3   (-0.004460377362249662, 0.06828870354250718)  \n",
       "4   (-0.005457010641221879, 0.07258041489654102)  "
      ]
     },
     "execution_count": 70,
     "metadata": {},
     "output_type": "execute_result"
    }
   ],
   "source": [
    "ukNewsGroupedByMonth = ukNewsDF.groupby(ukNewsDF[\"month\"]).agg(\n",
    "    mean_value=(\"sentiment\", \"mean\"),\n",
    "    count=(\"sentiment\", \"count\"),\n",
    "    confidence_interval=(\"sentiment\", lambda x: stats.t.interval(0.95, len(x)-1, loc=np.mean(x), scale=stats.sem(x)))\n",
    ")\n",
    "ukNewsGroupedByMonth.reset_index(inplace=True)\n",
    "ukNewsGroupedByMonth"
   ]
  },
  {
   "cell_type": "code",
   "execution_count": 79,
   "id": "e0867ec0",
   "metadata": {},
   "outputs": [
    {
     "data": {
      "text/plain": [
       "[{'December 2022': (-1.8733904953617007, 0.06198987153210318)},\n",
       " {'February 2023': (0.6023800136792646, 0.5475172120223593)},\n",
       " {'January 2023': (0.41953583225905267, 0.6750959121045581)},\n",
       " {'March 2023': (-0.9371583973815735, 0.3493603613464604)},\n",
       " {'November 2022': (-1.0020372504497483, 0.31708986592396127)}]"
      ]
     },
     "execution_count": 79,
     "metadata": {},
     "output_type": "execute_result"
    }
   ],
   "source": [
    "t_test_results = []\n",
    "\n",
    "for row1, row2 in zip(ukNewsGroupedByMonth.itertuples(index=False), irelandNewsGroupedByMonth.itertuples(index=False)):\n",
    "    month = row1.month\n",
    "    t_statistic, p_value = stats.ttest_ind(irelandNewsDF[irelandNewsDF[\"month\"] == month][\"sentiment\"], ukNewsDF[ukNewsDF[\"month\"] == month][\"sentiment\"])\n",
    "    tempDict = {}\n",
    "    tempDict[month] = (t_statistic, p_value)\n",
    "    t_test_results.append(tempDict)\n",
    "    \n",
    "t_test_results"
   ]
  },
  {
   "cell_type": "code",
   "execution_count": 76,
   "id": "cafb8951",
   "metadata": {},
   "outputs": [
    {
     "data": {
      "text/plain": [
       "2      0.377\n",
       "5     -0.137\n",
       "7      0.381\n",
       "10     0.128\n",
       "19     0.014\n",
       "       ...  \n",
       "490    0.018\n",
       "496   -0.347\n",
       "497   -0.231\n",
       "502    0.166\n",
       "504    0.448\n",
       "Name: sentiment, Length: 118, dtype: float64"
      ]
     },
     "execution_count": 76,
     "metadata": {},
     "output_type": "execute_result"
    }
   ],
   "source": [
    "irelandNewsDF[irelandNewsDF[\"month\"] == month][\"sentiment\"]"
   ]
  },
  {
   "cell_type": "code",
   "execution_count": null,
   "id": "9ab54beb",
   "metadata": {},
   "outputs": [],
   "source": []
  }
 ],
 "metadata": {
  "kernelspec": {
   "display_name": "Python 3 (ipykernel)",
   "language": "python",
   "name": "python3"
  },
  "language_info": {
   "codemirror_mode": {
    "name": "ipython",
    "version": 3
   },
   "file_extension": ".py",
   "mimetype": "text/x-python",
   "name": "python",
   "nbconvert_exporter": "python",
   "pygments_lexer": "ipython3",
   "version": "3.9.7"
  }
 },
 "nbformat": 4,
 "nbformat_minor": 5
}
