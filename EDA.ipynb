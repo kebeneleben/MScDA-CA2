{
 "cells": [
  {
   "cell_type": "code",
   "execution_count": 13,
   "id": "af0077bc",
   "metadata": {},
   "outputs": [],
   "source": [
    "from dotenv import load_dotenv\n",
    "import os\n",
    "from pymongo import MongoClient\n",
    "import pandas as pd\n",
    "import functions.utils as utils"
   ]
  },
  {
   "cell_type": "code",
   "execution_count": 2,
   "id": "cf506328",
   "metadata": {},
   "outputs": [],
   "source": [
    "load_dotenv()\n",
    "MONGODB_URI = os.getenv(\"MONGODB_URI\")"
   ]
  },
  {
   "cell_type": "code",
   "execution_count": 5,
   "id": "0c9616bb",
   "metadata": {},
   "outputs": [],
   "source": [
    "mongoClient = MongoClient(MONGODB_URI)\n",
    "db = mongoClient[\"news_data\"]\n",
    "ieColl = db[\"ireland_news\"]"
   ]
  },
  {
   "cell_type": "markdown",
   "id": "aeaee098",
   "metadata": {},
   "source": [
    "## The Ireland News Dataset"
   ]
  },
  {
   "cell_type": "code",
   "execution_count": 28,
   "id": "0a663911",
   "metadata": {
    "scrolled": true
   },
   "outputs": [
    {
     "name": "stdout",
     "output_type": "stream",
     "text": [
      "505\n"
     ]
    },
    {
     "data": {
      "text/html": [
       "<div>\n",
       "<style scoped>\n",
       "    .dataframe tbody tr th:only-of-type {\n",
       "        vertical-align: middle;\n",
       "    }\n",
       "\n",
       "    .dataframe tbody tr th {\n",
       "        vertical-align: top;\n",
       "    }\n",
       "\n",
       "    .dataframe thead th {\n",
       "        text-align: right;\n",
       "    }\n",
       "</style>\n",
       "<table border=\"1\" class=\"dataframe\">\n",
       "  <thead>\n",
       "    <tr style=\"text-align: right;\">\n",
       "      <th></th>\n",
       "      <th>_id</th>\n",
       "      <th>id</th>\n",
       "      <th>title</th>\n",
       "      <th>publish_date</th>\n",
       "      <th>source_country</th>\n",
       "      <th>sentiment</th>\n",
       "    </tr>\n",
       "  </thead>\n",
       "  <tbody>\n",
       "    <tr>\n",
       "      <th>0</th>\n",
       "      <td>646fddfd0576b45037ddb2c6</td>\n",
       "      <td>111013564</td>\n",
       "      <td>Kilkenny-based recruitment company wins two in...</td>\n",
       "      <td>2023-04-18 08:59:00</td>\n",
       "      <td>ie</td>\n",
       "      <td>0.544</td>\n",
       "    </tr>\n",
       "    <tr>\n",
       "      <th>1</th>\n",
       "      <td>646fddfd0576b45037ddb2c7</td>\n",
       "      <td>88450232</td>\n",
       "      <td>Ministers Harris and Ryan welcome record numbe...</td>\n",
       "      <td>2023-01-17 21:41:06</td>\n",
       "      <td>ie</td>\n",
       "      <td>0.341</td>\n",
       "    </tr>\n",
       "    <tr>\n",
       "      <th>2</th>\n",
       "      <td>646fddfd0576b45037ddb2c8</td>\n",
       "      <td>75989338</td>\n",
       "      <td>New €4.8m state-of-the-art facility planned fo...</td>\n",
       "      <td>2022-12-05 11:06:50</td>\n",
       "      <td>ie</td>\n",
       "      <td>0.377</td>\n",
       "    </tr>\n",
       "    <tr>\n",
       "      <th>3</th>\n",
       "      <td>646fddfd0576b45037ddb2c9</td>\n",
       "      <td>92473892</td>\n",
       "      <td>‘Not possible’ to make Northern Ireland Protoc...</td>\n",
       "      <td>2023-02-01 20:45:45</td>\n",
       "      <td>ie</td>\n",
       "      <td>-0.146</td>\n",
       "    </tr>\n",
       "    <tr>\n",
       "      <th>4</th>\n",
       "      <td>646fddfd0576b45037ddb2ca</td>\n",
       "      <td>86433356</td>\n",
       "      <td>Shoppers must demand longer lasting goods and ...</td>\n",
       "      <td>2023-01-10 16:14:04</td>\n",
       "      <td>ie</td>\n",
       "      <td>-0.077</td>\n",
       "    </tr>\n",
       "  </tbody>\n",
       "</table>\n",
       "</div>"
      ],
      "text/plain": [
       "                        _id         id  \\\n",
       "0  646fddfd0576b45037ddb2c6  111013564   \n",
       "1  646fddfd0576b45037ddb2c7   88450232   \n",
       "2  646fddfd0576b45037ddb2c8   75989338   \n",
       "3  646fddfd0576b45037ddb2c9   92473892   \n",
       "4  646fddfd0576b45037ddb2ca   86433356   \n",
       "\n",
       "                                               title         publish_date  \\\n",
       "0  Kilkenny-based recruitment company wins two in...  2023-04-18 08:59:00   \n",
       "1  Ministers Harris and Ryan welcome record numbe...  2023-01-17 21:41:06   \n",
       "2  New €4.8m state-of-the-art facility planned fo...  2022-12-05 11:06:50   \n",
       "3  ‘Not possible’ to make Northern Ireland Protoc...  2023-02-01 20:45:45   \n",
       "4  Shoppers must demand longer lasting goods and ...  2023-01-10 16:14:04   \n",
       "\n",
       "  source_country  sentiment  \n",
       "0             ie      0.544  \n",
       "1             ie      0.341  \n",
       "2             ie      0.377  \n",
       "3             ie     -0.146  \n",
       "4             ie     -0.077  "
      ]
     },
     "execution_count": 28,
     "metadata": {},
     "output_type": "execute_result"
    }
   ],
   "source": [
    "# https://towardsdatascience.com/list-comprehensions-vs-for-loops-it-is-not-what-you-think-34071d4d8207\n",
    "# Using array computation is a lot faster than using for loops and appending to a list\n",
    "irelandNews = list(ieColl.find({}))\n",
    "print(len(irelandNews))\n",
    "\n",
    "irelandNewsDF = pd.DataFrame(irelandNews)\n",
    "irelandNewsDF.head()"
   ]
  },
  {
   "cell_type": "code",
   "execution_count": 29,
   "id": "4b9c7f6a",
   "metadata": {},
   "outputs": [
    {
     "data": {
      "text/html": [
       "<div>\n",
       "<style scoped>\n",
       "    .dataframe tbody tr th:only-of-type {\n",
       "        vertical-align: middle;\n",
       "    }\n",
       "\n",
       "    .dataframe tbody tr th {\n",
       "        vertical-align: top;\n",
       "    }\n",
       "\n",
       "    .dataframe thead th {\n",
       "        text-align: right;\n",
       "    }\n",
       "</style>\n",
       "<table border=\"1\" class=\"dataframe\">\n",
       "  <thead>\n",
       "    <tr style=\"text-align: right;\">\n",
       "      <th></th>\n",
       "      <th>id</th>\n",
       "      <th>sentiment</th>\n",
       "    </tr>\n",
       "  </thead>\n",
       "  <tbody>\n",
       "    <tr>\n",
       "      <th>count</th>\n",
       "      <td>5.050000e+02</td>\n",
       "      <td>505.000000</td>\n",
       "    </tr>\n",
       "    <tr>\n",
       "      <th>mean</th>\n",
       "      <td>9.049021e+07</td>\n",
       "      <td>-0.003907</td>\n",
       "    </tr>\n",
       "    <tr>\n",
       "      <th>std</th>\n",
       "      <td>1.450734e+07</td>\n",
       "      <td>0.288732</td>\n",
       "    </tr>\n",
       "    <tr>\n",
       "      <th>min</th>\n",
       "      <td>6.496858e+07</td>\n",
       "      <td>-0.774000</td>\n",
       "    </tr>\n",
       "    <tr>\n",
       "      <th>25%</th>\n",
       "      <td>7.718277e+07</td>\n",
       "      <td>-0.216000</td>\n",
       "    </tr>\n",
       "    <tr>\n",
       "      <th>50%</th>\n",
       "      <td>9.012608e+07</td>\n",
       "      <td>-0.029000</td>\n",
       "    </tr>\n",
       "    <tr>\n",
       "      <th>75%</th>\n",
       "      <td>1.034486e+08</td>\n",
       "      <td>0.186000</td>\n",
       "    </tr>\n",
       "    <tr>\n",
       "      <th>max</th>\n",
       "      <td>1.124263e+08</td>\n",
       "      <td>0.879000</td>\n",
       "    </tr>\n",
       "  </tbody>\n",
       "</table>\n",
       "</div>"
      ],
      "text/plain": [
       "                 id   sentiment\n",
       "count  5.050000e+02  505.000000\n",
       "mean   9.049021e+07   -0.003907\n",
       "std    1.450734e+07    0.288732\n",
       "min    6.496858e+07   -0.774000\n",
       "25%    7.718277e+07   -0.216000\n",
       "50%    9.012608e+07   -0.029000\n",
       "75%    1.034486e+08    0.186000\n",
       "max    1.124263e+08    0.879000"
      ]
     },
     "execution_count": 29,
     "metadata": {},
     "output_type": "execute_result"
    }
   ],
   "source": [
    "irelandNewsDF.describe()"
   ]
  },
  {
   "cell_type": "code",
   "execution_count": 30,
   "id": "7987100b",
   "metadata": {},
   "outputs": [
    {
     "name": "stdout",
     "output_type": "stream",
     "text": [
      "<class 'pandas.core.frame.DataFrame'>\n",
      "RangeIndex: 505 entries, 0 to 504\n",
      "Data columns (total 6 columns):\n",
      " #   Column          Non-Null Count  Dtype  \n",
      "---  ------          --------------  -----  \n",
      " 0   _id             505 non-null    object \n",
      " 1   id              505 non-null    int64  \n",
      " 2   title           505 non-null    object \n",
      " 3   publish_date    505 non-null    object \n",
      " 4   source_country  505 non-null    object \n",
      " 5   sentiment       505 non-null    float64\n",
      "dtypes: float64(1), int64(1), object(4)\n",
      "memory usage: 23.8+ KB\n"
     ]
    }
   ],
   "source": [
    "irelandNewsDF.info()"
   ]
  },
  {
   "cell_type": "code",
   "execution_count": 31,
   "id": "089969a1",
   "metadata": {
    "scrolled": true
   },
   "outputs": [
    {
     "data": {
      "text/html": [
       "<div>\n",
       "<style scoped>\n",
       "    .dataframe tbody tr th:only-of-type {\n",
       "        vertical-align: middle;\n",
       "    }\n",
       "\n",
       "    .dataframe tbody tr th {\n",
       "        vertical-align: top;\n",
       "    }\n",
       "\n",
       "    .dataframe thead th {\n",
       "        text-align: right;\n",
       "    }\n",
       "</style>\n",
       "<table border=\"1\" class=\"dataframe\">\n",
       "  <thead>\n",
       "    <tr style=\"text-align: right;\">\n",
       "      <th></th>\n",
       "      <th>title</th>\n",
       "      <th>publish_date</th>\n",
       "      <th>source_country</th>\n",
       "      <th>sentiment</th>\n",
       "    </tr>\n",
       "  </thead>\n",
       "  <tbody>\n",
       "    <tr>\n",
       "      <th>0</th>\n",
       "      <td>Kilkenny-based recruitment company wins two in...</td>\n",
       "      <td>2023-04-18 08:59:00</td>\n",
       "      <td>ie</td>\n",
       "      <td>0.544</td>\n",
       "    </tr>\n",
       "    <tr>\n",
       "      <th>1</th>\n",
       "      <td>Ministers Harris and Ryan welcome record numbe...</td>\n",
       "      <td>2023-01-17 21:41:06</td>\n",
       "      <td>ie</td>\n",
       "      <td>0.341</td>\n",
       "    </tr>\n",
       "    <tr>\n",
       "      <th>2</th>\n",
       "      <td>New €4.8m state-of-the-art facility planned fo...</td>\n",
       "      <td>2022-12-05 11:06:50</td>\n",
       "      <td>ie</td>\n",
       "      <td>0.377</td>\n",
       "    </tr>\n",
       "    <tr>\n",
       "      <th>3</th>\n",
       "      <td>‘Not possible’ to make Northern Ireland Protoc...</td>\n",
       "      <td>2023-02-01 20:45:45</td>\n",
       "      <td>ie</td>\n",
       "      <td>-0.146</td>\n",
       "    </tr>\n",
       "    <tr>\n",
       "      <th>4</th>\n",
       "      <td>Shoppers must demand longer lasting goods and ...</td>\n",
       "      <td>2023-01-10 16:14:04</td>\n",
       "      <td>ie</td>\n",
       "      <td>-0.077</td>\n",
       "    </tr>\n",
       "  </tbody>\n",
       "</table>\n",
       "</div>"
      ],
      "text/plain": [
       "                                               title        publish_date  \\\n",
       "0  Kilkenny-based recruitment company wins two in... 2023-04-18 08:59:00   \n",
       "1  Ministers Harris and Ryan welcome record numbe... 2023-01-17 21:41:06   \n",
       "2  New €4.8m state-of-the-art facility planned fo... 2022-12-05 11:06:50   \n",
       "3  ‘Not possible’ to make Northern Ireland Protoc... 2023-02-01 20:45:45   \n",
       "4  Shoppers must demand longer lasting goods and ... 2023-01-10 16:14:04   \n",
       "\n",
       "  source_country  sentiment  \n",
       "0             ie      0.544  \n",
       "1             ie      0.341  \n",
       "2             ie      0.377  \n",
       "3             ie     -0.146  \n",
       "4             ie     -0.077  "
      ]
     },
     "execution_count": 31,
     "metadata": {},
     "output_type": "execute_result"
    }
   ],
   "source": [
    "irelandNewsDF.drop([\"_id\", \"id\"], axis=1, inplace=True)\n",
    "irelandNewsDF[\"publish_date\"] = pd.to_datetime(irelandNewsDF[\"publish_date\"])\n",
    "irelandNewsDF.head()"
   ]
  },
  {
   "cell_type": "code",
   "execution_count": 47,
   "id": "0d800232",
   "metadata": {},
   "outputs": [
    {
     "name": "stdout",
     "output_type": "stream",
     "text": [
      "<class 'pandas.core.frame.DataFrame'>\n",
      "RangeIndex: 505 entries, 0 to 504\n",
      "Data columns (total 4 columns):\n",
      " #   Column          Non-Null Count  Dtype         \n",
      "---  ------          --------------  -----         \n",
      " 0   title           505 non-null    object        \n",
      " 1   publish_date    505 non-null    datetime64[ns]\n",
      " 2   source_country  505 non-null    object        \n",
      " 3   sentiment       505 non-null    float64       \n",
      "dtypes: datetime64[ns](1), float64(1), object(2)\n",
      "memory usage: 15.9+ KB\n"
     ]
    }
   ],
   "source": [
    "irelandNewsDF.info()"
   ]
  },
  {
   "cell_type": "code",
   "execution_count": 32,
   "id": "54554254",
   "metadata": {},
   "outputs": [],
   "source": [
    "# Replace the &amp;rsquo; and &amp;lsquo; with ' symbols\n",
    "irelandNewsDF['title'] = irelandNewsDF['title'].str.replace('&amp;rsquo;', \"'\")\n",
    "irelandNewsDF['title'] = irelandNewsDF['title'].str.replace('&amp;lsquo;', \"'\")"
   ]
  },
  {
   "cell_type": "code",
   "execution_count": 46,
   "id": "4a7feba8",
   "metadata": {},
   "outputs": [
    {
     "data": {
      "text/plain": [
       "0    Kilkenny-based recruitment company wins two in...\n",
       "1    Ministers Harris Ryan welcome record number en...\n",
       "2    New €4.8m state-of-the-art facility planned UC...\n",
       "3    ‘Not possible’ make Northern Ireland Protocol ...\n",
       "4    Shoppers must demand longer lasting goods less...\n",
       "Name: title, dtype: object"
      ]
     },
     "execution_count": 46,
     "metadata": {},
     "output_type": "execute_result"
    }
   ],
   "source": [
    "from nltk.corpus import stopwords\n",
    "stop = stopwords.words('english')\n",
    "irelandNewsDF['title'] = irelandNewsDF['title'].apply(lambda x: \" \".join(x for x in x.split() if x not in stop))\n",
    "irelandNewsDF['title'].head()"
   ]
  },
  {
   "cell_type": "code",
   "execution_count": null,
   "id": "38134f67",
   "metadata": {},
   "outputs": [],
   "source": []
  }
 ],
 "metadata": {
  "kernelspec": {
   "display_name": "Python 3 (ipykernel)",
   "language": "python",
   "name": "python3"
  },
  "language_info": {
   "codemirror_mode": {
    "name": "ipython",
    "version": 3
   },
   "file_extension": ".py",
   "mimetype": "text/x-python",
   "name": "python",
   "nbconvert_exporter": "python",
   "pygments_lexer": "ipython3",
   "version": "3.9.7"
  }
 },
 "nbformat": 4,
 "nbformat_minor": 5
}
